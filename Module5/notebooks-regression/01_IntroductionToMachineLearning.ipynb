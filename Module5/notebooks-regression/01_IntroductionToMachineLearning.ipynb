{
 "cells": [
  {
   "cell_type": "markdown",
   "metadata": {},
   "source": [
    "# Introduction to Machine Learning"
   ]
  },
  {
   "cell_type": "markdown",
   "metadata": {},
   "source": [
    "## What is Machine Learning?\n",
    "One definition: \"Machine learning is the semi-automated extraction of knowledge from data\"\n",
    "\n",
    "- **Knowledge from data**: Starts with a question that might be answerable using data\n",
    "- **Automated extraction**: A computer provides the insight\n",
    "- **Semi-automated**: Requires many smart decisions by a human"
   ]
  },
  {
   "cell_type": "markdown",
   "metadata": {},
   "source": [
    "> Machine Learning is a subset of artificial intelligence. It focuses of systems, thereby allowing them to learn and make predictions based on some experience which is data in case of machines."
   ]
  },
  {
   "cell_type": "markdown",
   "metadata": {},
   "source": [
    "## Use Cases of Machine Learning"
   ]
  },
  {
   "cell_type": "markdown",
   "metadata": {},
   "source": [
    "- Voice assistants\n",
    "- Email filtering\n",
    "- Product recommendations\n",
    "- Personalized marketing\n",
    "- Process automation\n",
    "- Fraud detection\n",
    "- Health care \n",
    "- Finance"
   ]
  },
  {
   "cell_type": "markdown",
   "metadata": {},
   "source": [
    "## Use Cases of Machine Learning in Healthcare\n",
    "- Natural Language Processing (NLP) for Administrative Tasks\n",
    "- Patient Risk Identification\n",
    "- Accelerating Medical Research Insight\n",
    "- Visual Data Processing for Tumor Detection\n",
    "- Using Convolutional Neural Networks (CNNs) for Skin Cancer Diagnosis\n",
    "\n",
    "[__Source__](https://www.anaconda.com/blog/machine-learning-in-healthcare-5-use-cases)"
   ]
  },
  {
   "cell_type": "markdown",
   "metadata": {},
   "source": [
    "## Machine Learning Terminology\n",
    "\n",
    "### Types of Data \n",
    "- **Quantitative**: Numerical, measurable quantities in which arithmetic operations often make sense\n",
    "- **Continuous**: could take on any value within an interval,many possible values\n",
    "- **Discrete**:countable value, finite number of values. \n",
    "- **Categorical**: Classifies individuals or items into different groups\n",
    "- **Ordinal**: groups have an order or ranking\n",
    "- **Nominal**: groups are merely names, no ranking\n",
    "\n",
    "### Observation and Feature\n",
    "- Each row is an **observation** (also known as: sample, example, instance, record)\n",
    "- Each column is a **feature** (also known as: predictor, attribute, independent variable, input, regressor, covariate)\n",
    "\n",
    "### Independent and Dependent Variable \n",
    "- **Independent Variable**: A variable which value does not change by the effect of other variables and is used to manipulate the dependent variable. It often denoted as $X$.\n",
    "\n",
    "- **Dependent Variable**: A variable whose value change when there is any manipulation in the values of independent variable. It is often denoted as $Y$\n",
    "\n",
    "**Example**: Salary depends on year of experience\n",
    "\n",
    "- **Salary**: Dependent Variable \n",
    "- **Year of experience**: Independent Variable \n",
    "\n",
    "### Training and Test Dataset\n",
    "- **Training Set**: Here, you have the complete training dataset. You can extract features and train to fit a model and so on. \n",
    "- **Validation Set**: This is crucial to choose the right parameters for your estimator. We can divide the training set into a train set and validation set. Based on the validation test results, the model can be trained(for instance, changing parameters, classifiers). This will help us get the most optimized model.\n",
    "\n",
    "- **Test Set**: Testing Set: Here, once the model is obtained, you can predict using the model obtained on the training set.\n",
    "\n",
    "![](../img/test_train.png)"
   ]
  },
  {
   "cell_type": "markdown",
   "metadata": {},
   "source": [
    "## Types of Machine Learning\n",
    "- Supervised Learning\n",
    "- Unsupervised Learning \n",
    "- Reinforcement Learning"
   ]
  },
  {
   "cell_type": "markdown",
   "metadata": {},
   "source": [
    "## Supervised Learning \n",
    "- The majority of practical machine learning uses supervised learning.\n",
    "- Supervised learning is where you have input variables ($X$) and an output variable ($Y$) and you use an algorithm to learn the mapping function from the input to the output.\n",
    "$$Y = f(X)$$\n",
    "- The goal is to approximate the mapping function so well that when you have new input data (X) that you can predict the output variables (Y) for that data.\n",
    "- It is called supervised learning because the process of an algorithm learning from the training dataset can be thought of as a teacher supervising the learning process. We know the correct answers, the algorithm iteratively makes predictions on the training data and is corrected by the teacher. Learning stops when the algorithm achieves an acceptable level of performance."
   ]
  },
  {
   "cell_type": "markdown",
   "metadata": {},
   "source": [
    "Supervised learning problems can be further grouped into regression and classification problems.\n",
    "- **Classification**: A classification problem is when the **output** variable is a category, such as “red” or “blue” or “disease” and “no disease”, \"female\" or \"male\".\n",
    "- **Regression**: A regression problem is when the output variable is a real value, such as “dollars” or “weight”.\n",
    "![](../img/class_reg.png)"
   ]
  },
  {
   "cell_type": "markdown",
   "metadata": {},
   "source": [
    "Some common types of problems built on top of classification and regression include **recommendation** and **time series** prediction respectively.\n",
    "Some popular examples of supervised machine learning algorithms are:\n",
    "- Linear regression for regression problems.\n",
    "- Random forest for classification and regression problems.\n",
    "- Support vector machines for classification problems."
   ]
  },
  {
   "cell_type": "markdown",
   "metadata": {},
   "source": [
    "## Example of Supervised Learning \n",
    "Making predictions using data\n",
    "- Example: Is a given email \"spam\" or \"ham\"?\n",
    "- There is an outcome we are trying to predict"
   ]
  },
  {
   "cell_type": "markdown",
   "metadata": {},
   "source": [
    "## Unsupervised Learning"
   ]
  },
  {
   "cell_type": "markdown",
   "metadata": {},
   "source": [
    "- Unsupervised learning is where you only have input data ($X$) and no corresponding output variables.\n",
    "- The goal for unsupervised learning is to model the underlying structure or distribution in the data in order to learn more about the data.\n",
    "- These are called unsupervised learning because unlike supervised learning above there is no correct answers and there is no teacher. Algorithms are left to their own devises to discover and present the interesting structure in the data.\n",
    "\n",
    "Unsupervised learning problems can be further grouped into clustering and association problems.\n",
    "- **Clustering**: A clustering problem is where you want to discover the inherent groupings in the data, such as grouping customers by purchasing behavior.\n",
    "- **Association**:  An association rule learning problem is where you want to discover rules that describe large portions of your data, such as people that buy $X$ also tend to buy $Y$."
   ]
  },
  {
   "cell_type": "markdown",
   "metadata": {},
   "source": [
    "## Example of Unsupervised Learning \n",
    "Extracting structure from data\n",
    "\n",
    "- Example: Segment grocery store shoppers into clusters that exhibit similar behaviors\n",
    "- There is no \"right answer\""
   ]
  },
  {
   "cell_type": "markdown",
   "metadata": {},
   "source": [
    "![Clustering](../img/01_clustering.png)"
   ]
  },
  {
   "cell_type": "markdown",
   "metadata": {},
   "source": [
    "__NOTE__\n",
    "- **Supervised**: All data is labeled and the algorithms learn to predict the output from the input data.\n",
    "- **Unsupervised**: All data is unlabeled and the algorithms learn to inherent structure from the input data."
   ]
  }
 ],
 "metadata": {
  "kernelspec": {
   "display_name": "Python 3 (ipykernel)",
   "language": "python",
   "name": "python3"
  },
  "language_info": {
   "codemirror_mode": {
    "name": "ipython",
    "version": 3
   },
   "file_extension": ".py",
   "mimetype": "text/x-python",
   "name": "python",
   "nbconvert_exporter": "python",
   "pygments_lexer": "ipython3",
   "version": "3.9.12"
  },
  "latex_envs": {
   "LaTeX_envs_menu_present": true,
   "autoclose": false,
   "autocomplete": true,
   "bibliofile": "biblio.bib",
   "cite_by": "apalike",
   "current_citInitial": 1,
   "eqLabelWithNumbers": true,
   "eqNumInitial": 1,
   "hotkeys": {
    "equation": "Ctrl-E",
    "itemize": "Ctrl-I"
   },
   "labels_anchors": false,
   "latex_user_defs": false,
   "report_style_numbering": false,
   "user_envs_cfg": false
  },
  "toc": {
   "base_numbering": 1,
   "nav_menu": {},
   "number_sections": true,
   "sideBar": true,
   "skip_h1_title": false,
   "title_cell": "Table of Contents",
   "title_sidebar": "Contents",
   "toc_cell": false,
   "toc_position": {},
   "toc_section_display": true,
   "toc_window_display": false
  },
  "widgets": {
   "application/vnd.jupyter.widget-state+json": {
    "state": {},
    "version_major": 2,
    "version_minor": 0
   }
  }
 },
 "nbformat": 4,
 "nbformat_minor": 4
}
