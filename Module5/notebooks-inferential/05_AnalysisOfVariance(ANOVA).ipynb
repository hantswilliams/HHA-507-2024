{
 "cells": [
  {
   "cell_type": "markdown",
   "id": "40f209af",
   "metadata": {},
   "source": [
    "# Analysis of Variance(ANOVA) "
   ]
  },
  {
   "cell_type": "markdown",
   "id": "0380af46",
   "metadata": {},
   "source": [
    "## ANOVA - Analysis of Variance\n",
    "- Compares the means of 3(+) groups of data.\n",
    "- Used to study if there is **statistical difference** between 3(+) group of data. \n",
    "- Assumes the data are **normally distributed** and have **equal variances**\n",
    "\n",
    "### One-way ANOVA\n",
    "- Compares the mean of 3(+) groups of data considering **one independent** variable or factor.\n",
    "- Within each group there should be at least three observations.\n",
    "\n",
    "## Two-way ANOVA\n",
    "- Compares the means of 3(+) groups of data considering two independent variables or factors. \n",
    "\n",
    "### Assumptions\n",
    "\n",
    "- Observations in each sample are independent and identically distributed (iid).\n",
    "- Observations in each sample are normally distributed.\n",
    "- Observations in each sample have the same variance.\n",
    "\n",
    "### Interpretation\n",
    "\n",
    "- H0: the means of the samples are equal.\n",
    "- Ha: one or more of the means of the samples are unequal.\n"
   ]
  },
  {
   "cell_type": "code",
   "execution_count": 1,
   "id": "b595b7f6",
   "metadata": {},
   "outputs": [],
   "source": [
    "import pandas as pd \n",
    "import numpy as np \n",
    "import matplotlib.pyplot as plt \n",
    "import seaborn as sns \n",
    "from scipy import stats\n",
    "sns.set(font_scale=2, palette= \"viridis\")\n",
    "import researchpy as rp "
   ]
  },
  {
   "cell_type": "code",
   "execution_count": 2,
   "id": "2c6d799e",
   "metadata": {},
   "outputs": [
    {
     "data": {
      "text/html": [
       "<div>\n",
       "<style scoped>\n",
       "    .dataframe tbody tr th:only-of-type {\n",
       "        vertical-align: middle;\n",
       "    }\n",
       "\n",
       "    .dataframe tbody tr th {\n",
       "        vertical-align: top;\n",
       "    }\n",
       "\n",
       "    .dataframe thead th {\n",
       "        text-align: right;\n",
       "    }\n",
       "</style>\n",
       "<table border=\"1\" class=\"dataframe\">\n",
       "  <thead>\n",
       "    <tr style=\"text-align: right;\">\n",
       "      <th></th>\n",
       "      <th>Height</th>\n",
       "      <th>Weight</th>\n",
       "      <th>Age</th>\n",
       "      <th>Gender</th>\n",
       "      <th>Smokes</th>\n",
       "      <th>Alcohol</th>\n",
       "      <th>Exercise</th>\n",
       "      <th>Ran</th>\n",
       "      <th>Pulse1</th>\n",
       "      <th>Pulse2</th>\n",
       "      <th>BMI</th>\n",
       "      <th>BMICat</th>\n",
       "    </tr>\n",
       "  </thead>\n",
       "  <tbody>\n",
       "    <tr>\n",
       "      <th>0</th>\n",
       "      <td>1.73</td>\n",
       "      <td>57.0</td>\n",
       "      <td>18</td>\n",
       "      <td>Female</td>\n",
       "      <td>No</td>\n",
       "      <td>Yes</td>\n",
       "      <td>Moderate</td>\n",
       "      <td>No</td>\n",
       "      <td>86.0</td>\n",
       "      <td>88.0</td>\n",
       "      <td>19.045073</td>\n",
       "      <td>Underweight</td>\n",
       "    </tr>\n",
       "    <tr>\n",
       "      <th>1</th>\n",
       "      <td>1.79</td>\n",
       "      <td>58.0</td>\n",
       "      <td>19</td>\n",
       "      <td>Female</td>\n",
       "      <td>No</td>\n",
       "      <td>Yes</td>\n",
       "      <td>Moderate</td>\n",
       "      <td>Yes</td>\n",
       "      <td>82.0</td>\n",
       "      <td>150.0</td>\n",
       "      <td>18.101807</td>\n",
       "      <td>Underweight</td>\n",
       "    </tr>\n",
       "    <tr>\n",
       "      <th>2</th>\n",
       "      <td>1.67</td>\n",
       "      <td>62.0</td>\n",
       "      <td>18</td>\n",
       "      <td>Female</td>\n",
       "      <td>No</td>\n",
       "      <td>Yes</td>\n",
       "      <td>High</td>\n",
       "      <td>Yes</td>\n",
       "      <td>96.0</td>\n",
       "      <td>176.0</td>\n",
       "      <td>22.230987</td>\n",
       "      <td>Normal</td>\n",
       "    </tr>\n",
       "    <tr>\n",
       "      <th>3</th>\n",
       "      <td>1.95</td>\n",
       "      <td>84.0</td>\n",
       "      <td>18</td>\n",
       "      <td>Male</td>\n",
       "      <td>No</td>\n",
       "      <td>Yes</td>\n",
       "      <td>High</td>\n",
       "      <td>No</td>\n",
       "      <td>71.0</td>\n",
       "      <td>73.0</td>\n",
       "      <td>22.090730</td>\n",
       "      <td>Normal</td>\n",
       "    </tr>\n",
       "    <tr>\n",
       "      <th>4</th>\n",
       "      <td>1.73</td>\n",
       "      <td>64.0</td>\n",
       "      <td>18</td>\n",
       "      <td>Female</td>\n",
       "      <td>No</td>\n",
       "      <td>Yes</td>\n",
       "      <td>Low</td>\n",
       "      <td>No</td>\n",
       "      <td>90.0</td>\n",
       "      <td>88.0</td>\n",
       "      <td>21.383942</td>\n",
       "      <td>Normal</td>\n",
       "    </tr>\n",
       "  </tbody>\n",
       "</table>\n",
       "</div>"
      ],
      "text/plain": [
       "   Height  Weight  Age  Gender Smokes Alcohol  Exercise  Ran  Pulse1  Pulse2  \\\n",
       "0    1.73    57.0   18  Female     No     Yes  Moderate   No    86.0    88.0   \n",
       "1    1.79    58.0   19  Female     No     Yes  Moderate  Yes    82.0   150.0   \n",
       "2    1.67    62.0   18  Female     No     Yes      High  Yes    96.0   176.0   \n",
       "3    1.95    84.0   18    Male     No     Yes      High   No    71.0    73.0   \n",
       "4    1.73    64.0   18  Female     No     Yes       Low   No    90.0    88.0   \n",
       "\n",
       "         BMI       BMICat  \n",
       "0  19.045073  Underweight  \n",
       "1  18.101807  Underweight  \n",
       "2  22.230987       Normal  \n",
       "3  22.090730       Normal  \n",
       "4  21.383942       Normal  "
      ]
     },
     "execution_count": 2,
     "metadata": {},
     "output_type": "execute_result"
    }
   ],
   "source": [
    "data = pd.read_csv('../data/pulse_data.csv')\n",
    "data.head() "
   ]
  },
  {
   "cell_type": "code",
   "execution_count": 3,
   "id": "7a8d1d2d",
   "metadata": {},
   "outputs": [
    {
     "data": {
      "text/plain": [
       "(108, 12)"
      ]
     },
     "execution_count": 3,
     "metadata": {},
     "output_type": "execute_result"
    }
   ],
   "source": [
    "data.shape"
   ]
  },
  {
   "cell_type": "code",
   "execution_count": 5,
   "id": "5ce7a3ad",
   "metadata": {},
   "outputs": [
    {
     "data": {
      "text/plain": [
       "array(['Underweight', 'Normal', 'Overweight', 'Obese'], dtype=object)"
      ]
     },
     "execution_count": 5,
     "metadata": {},
     "output_type": "execute_result"
    }
   ],
   "source": [
    "data['BMICat'].unique()"
   ]
  },
  {
   "cell_type": "code",
   "execution_count": 6,
   "id": "1774da67",
   "metadata": {},
   "outputs": [
    {
     "data": {
      "text/html": [
       "<div>\n",
       "<style scoped>\n",
       "    .dataframe tbody tr th:only-of-type {\n",
       "        vertical-align: middle;\n",
       "    }\n",
       "\n",
       "    .dataframe tbody tr th {\n",
       "        vertical-align: top;\n",
       "    }\n",
       "\n",
       "    .dataframe thead th {\n",
       "        text-align: right;\n",
       "    }\n",
       "</style>\n",
       "<table border=\"1\" class=\"dataframe\">\n",
       "  <thead>\n",
       "    <tr style=\"text-align: right;\">\n",
       "      <th>BMICat</th>\n",
       "      <th>Normal</th>\n",
       "      <th>Obese</th>\n",
       "      <th>Overweight</th>\n",
       "      <th>Underweight</th>\n",
       "    </tr>\n",
       "  </thead>\n",
       "  <tbody>\n",
       "    <tr>\n",
       "      <th>count</th>\n",
       "      <td>61.000000</td>\n",
       "      <td>2.000000</td>\n",
       "      <td>17.000000</td>\n",
       "      <td>27.00000</td>\n",
       "    </tr>\n",
       "    <tr>\n",
       "      <th>mean</th>\n",
       "      <td>75.245902</td>\n",
       "      <td>76.500000</td>\n",
       "      <td>73.411765</td>\n",
       "      <td>76.00000</td>\n",
       "    </tr>\n",
       "    <tr>\n",
       "      <th>std</th>\n",
       "      <td>14.269613</td>\n",
       "      <td>0.707107</td>\n",
       "      <td>10.338392</td>\n",
       "      <td>10.80954</td>\n",
       "    </tr>\n",
       "    <tr>\n",
       "      <th>min</th>\n",
       "      <td>47.000000</td>\n",
       "      <td>76.000000</td>\n",
       "      <td>49.000000</td>\n",
       "      <td>56.00000</td>\n",
       "    </tr>\n",
       "    <tr>\n",
       "      <th>25%</th>\n",
       "      <td>68.000000</td>\n",
       "      <td>76.250000</td>\n",
       "      <td>68.000000</td>\n",
       "      <td>70.00000</td>\n",
       "    </tr>\n",
       "    <tr>\n",
       "      <th>50%</th>\n",
       "      <td>75.000000</td>\n",
       "      <td>76.500000</td>\n",
       "      <td>76.000000</td>\n",
       "      <td>74.00000</td>\n",
       "    </tr>\n",
       "    <tr>\n",
       "      <th>75%</th>\n",
       "      <td>80.000000</td>\n",
       "      <td>76.750000</td>\n",
       "      <td>80.000000</td>\n",
       "      <td>84.00000</td>\n",
       "    </tr>\n",
       "    <tr>\n",
       "      <th>max</th>\n",
       "      <td>145.000000</td>\n",
       "      <td>77.000000</td>\n",
       "      <td>92.000000</td>\n",
       "      <td>104.00000</td>\n",
       "    </tr>\n",
       "  </tbody>\n",
       "</table>\n",
       "</div>"
      ],
      "text/plain": [
       "BMICat      Normal      Obese  Overweight  Underweight\n",
       "count    61.000000   2.000000   17.000000     27.00000\n",
       "mean     75.245902  76.500000   73.411765     76.00000\n",
       "std      14.269613   0.707107   10.338392     10.80954\n",
       "min      47.000000  76.000000   49.000000     56.00000\n",
       "25%      68.000000  76.250000   68.000000     70.00000\n",
       "50%      75.000000  76.500000   76.000000     74.00000\n",
       "75%      80.000000  76.750000   80.000000     84.00000\n",
       "max     145.000000  77.000000   92.000000    104.00000"
      ]
     },
     "execution_count": 6,
     "metadata": {},
     "output_type": "execute_result"
    }
   ],
   "source": [
    "data.groupby('BMICat')['Pulse1'].describe().T"
   ]
  },
  {
   "cell_type": "code",
   "execution_count": 7,
   "id": "0225585b",
   "metadata": {},
   "outputs": [
    {
     "data": {
      "image/png": "[encoded data removed]",
      "text/plain": [
       "<Figure size 864x576 with 1 Axes>"
      ]
     },
     "metadata": {},
     "output_type": "display_data"
    }
   ],
   "source": [
    "plt.figure(figsize=(12,8))\n",
    "sns.boxplot(data=data, x='BMICat', y='Pulse1')\n",
    "plt.show() "
   ]
  },
  {
   "cell_type": "markdown",
   "id": "4e3f6c8e",
   "metadata": {},
   "source": [
    "### One-way  ANOVA with `scipy.stats`"
   ]
  },
  {
   "cell_type": "code",
   "execution_count": 8,
   "id": "91742634",
   "metadata": {},
   "outputs": [
    {
     "data": {
      "text/plain": [
       "F_onewayResult(statistic=3.0725846725386963, pvalue=0.05048729781164558)"
      ]
     },
     "execution_count": 8,
     "metadata": {},
     "output_type": "execute_result"
    }
   ],
   "source": [
    "stats.f_oneway(data['Height'][data['Exercise'] == 'Low'],\n",
    "               data['Height'][data['Exercise'] == 'Moderate'],\n",
    "               data['Height'][data['Exercise'] == 'High'])"
   ]
  },
  {
   "cell_type": "code",
   "execution_count": 9,
   "id": "f7bc2995",
   "metadata": {},
   "outputs": [
    {
     "name": "stdout",
     "output_type": "stream",
     "text": [
      "statistic = 3.0725846725386963, p-value = 0.05048729781164558\n",
      "The means of the samples are equal.(fail to reject H0, not significant)\n"
     ]
    }
   ],
   "source": [
    "stat, p = stats.f_oneway(\n",
    "              data['Height'][data['Exercise'] == 'Low'],\n",
    "               data['Height'][data['Exercise'] == 'Moderate'],\n",
    "               data['Height'][data['Exercise'] == 'High'])\n",
    "\n",
    "print(f'statistic = {stat}, p-value = {p}')\n",
    "# interpret\n",
    "alpha = 0.05\n",
    "if p > alpha:\n",
    "    print('The means of the samples are equal.(fail to reject H0, not significant)')\n",
    "else:\n",
    "    print('The means of the samples are not equal(reject H0, significant)')"
   ]
  },
  {
   "cell_type": "code",
   "execution_count": 11,
   "id": "99cc5abe",
   "metadata": {},
   "outputs": [
    {
     "name": "stdout",
     "output_type": "stream",
     "text": [
      "statistic = 3.0725846725386963, p-value = 0.05048729781164558\n",
      "The means of the samples are equal.(fail to reject H0, not significant)\n"
     ]
    }
   ],
   "source": [
    "stat, p = stats.f_oneway(\n",
    "              data['Height'][data['Exercise'] == 'Low'],\n",
    "               data['Height'][data['Exercise'] == 'Moderate'],\n",
    "               data['Height'][data['Exercise'] == 'High'])\n",
    "\n",
    "print(f'statistic = {stat}, p-value = {p}')\n",
    "# interpret\n",
    "alpha = 0.05\n",
    "if p > alpha:\n",
    "    print('The means of the samples are equal.(fail to reject H0, not significant)')\n",
    "else:\n",
    "    print('The means of the samples are not equal(reject H0, significant)')"
   ]
  },
  {
   "cell_type": "code",
   "execution_count": 12,
   "id": "10e749be",
   "metadata": {},
   "outputs": [],
   "source": [
    "import statsmodels.api as sm \n",
    "from statsmodels.formula.api import ols"
   ]
  },
  {
   "cell_type": "code",
   "execution_count": 14,
   "id": "8436e354",
   "metadata": {},
   "outputs": [
    {
     "name": "stdout",
     "output_type": "stream",
     "text": [
      "            sum_sq     df         F    PR(>F)\n",
      "Exercise  0.060604    2.0  3.072585  0.050487\n",
      "Residual  1.035517  105.0       NaN       NaN\n"
     ]
    }
   ],
   "source": [
    "model = ols('Height ~ Exercise', data=data).fit()\n",
    "anova_result = sm.stats.anova_lm(model, typ=2)\n",
    "print(anova_result)"
   ]
  },
  {
   "cell_type": "markdown",
   "id": "004d9d5e",
   "metadata": {},
   "source": [
    "## Tukey's Honest Significance Difference\n",
    "The test finds out which specific group's means compared with each other different"
   ]
  },
  {
   "cell_type": "code",
   "execution_count": 15,
   "id": "9f220def",
   "metadata": {
    "scrolled": true
   },
   "outputs": [
    {
     "name": "stdout",
     "output_type": "stream",
     "text": [
      " Multiple Comparison of Means - Tukey HSD, FWER=0.05 \n",
      "=====================================================\n",
      "group1  group2  meandiff p-adj   lower  upper  reject\n",
      "-----------------------------------------------------\n",
      "  High      Low  -0.0741 0.0509 -0.1485 0.0002  False\n",
      "  High Moderate  -0.0394 0.3812 -0.1097 0.0309  False\n",
      "   Low Moderate   0.0347 0.2312 -0.0154 0.0848  False\n",
      "-----------------------------------------------------\n"
     ]
    }
   ],
   "source": [
    "from statsmodels.stats.multicomp import MultiComparison \n",
    "mul_com = MultiComparison(data['Height'], data['Exercise'])\n",
    "mul_result = mul_com.tukeyhsd()\n",
    "print(mul_result)"
   ]
  },
  {
   "cell_type": "code",
   "execution_count": 15,
   "id": "266a9d9a",
   "metadata": {},
   "outputs": [
    {
     "data": {
      "text/html": [
       "<table class=\"simpletable\">\n",
       "<caption>Multiple Comparison of Means - Tukey HSD, FWER=0.05</caption>\n",
       "<tr>\n",
       "  <th>group1</th>  <th>group2</th>  <th>meandiff</th>  <th>p-adj</th>  <th>lower</th>   <th>upper</th> <th>reject</th>\n",
       "</tr>\n",
       "<tr>\n",
       "   <td>High</td>     <td>Low</td>    <td>-0.0741</td> <td>0.0509</td> <td>-0.1485</td> <td>0.0002</td>  <td>False</td>\n",
       "</tr>\n",
       "<tr>\n",
       "   <td>High</td>  <td>Moderate</td>  <td>-0.0394</td> <td>0.3812</td> <td>-0.1097</td> <td>0.0309</td>  <td>False</td>\n",
       "</tr>\n",
       "<tr>\n",
       "    <td>Low</td>  <td>Moderate</td>  <td>0.0347</td>  <td>0.2312</td> <td>-0.0154</td> <td>0.0848</td>  <td>False</td>\n",
       "</tr>\n",
       "</table>"
      ],
      "text/plain": [
       "<class 'statsmodels.iolib.table.SimpleTable'>"
      ]
     },
     "execution_count": 15,
     "metadata": {},
     "output_type": "execute_result"
    }
   ],
   "source": [
    "from statsmodels.stats.multicomp import pairwise_tukeyhsd \n",
    "tukey = pairwise_tukeyhsd(data['Height'], data['Exercise'], alpha=0.05)\n",
    "# print summary \n",
    "tukey.summary()"
   ]
  },
  {
   "cell_type": "code",
   "execution_count": null,
   "id": "51dddee4",
   "metadata": {},
   "outputs": [],
   "source": [
    "# plot \n",
    "tukey.plot_simultaneous()\n",
    "plt.vlines(x = 20, ymin=0.5, ymax=4.5)\n",
    "plt.show() "
   ]
  },
  {
   "cell_type": "markdown",
   "id": "5ff835a2",
   "metadata": {},
   "source": [
    "### Two-way ANOVA with `statsmodels`\n",
    "https://www.statsmodels.org/stable/examples/notebooks/generated/interactions_anova.html"
   ]
  },
  {
   "cell_type": "code",
   "execution_count": 16,
   "id": "99458f42",
   "metadata": {},
   "outputs": [
    {
     "name": "stdout",
     "output_type": "stream",
     "text": [
      "\n",
      "\n"
     ]
    },
    {
     "data": {
      "text/html": [
       "<div>\n",
       "<style scoped>\n",
       "    .dataframe tbody tr th:only-of-type {\n",
       "        vertical-align: middle;\n",
       "    }\n",
       "\n",
       "    .dataframe tbody tr th {\n",
       "        vertical-align: top;\n",
       "    }\n",
       "\n",
       "    .dataframe thead th {\n",
       "        text-align: right;\n",
       "    }\n",
       "</style>\n",
       "<table border=\"1\" class=\"dataframe\">\n",
       "  <thead>\n",
       "    <tr style=\"text-align: right;\">\n",
       "      <th></th>\n",
       "      <th>N</th>\n",
       "      <th>Mean</th>\n",
       "      <th>SD</th>\n",
       "      <th>SE</th>\n",
       "      <th>95% Conf.</th>\n",
       "      <th>Interval</th>\n",
       "    </tr>\n",
       "    <tr>\n",
       "      <th>Exercise</th>\n",
       "      <th></th>\n",
       "      <th></th>\n",
       "      <th></th>\n",
       "      <th></th>\n",
       "      <th></th>\n",
       "      <th></th>\n",
       "    </tr>\n",
       "  </thead>\n",
       "  <tbody>\n",
       "    <tr>\n",
       "      <th>High</th>\n",
       "      <td>14</td>\n",
       "      <td>68.6429</td>\n",
       "      <td>12.6892</td>\n",
       "      <td>3.3913</td>\n",
       "      <td>61.3163</td>\n",
       "      <td>75.9694</td>\n",
       "    </tr>\n",
       "    <tr>\n",
       "      <th>Low</th>\n",
       "      <td>36</td>\n",
       "      <td>77.2222</td>\n",
       "      <td>9.3016</td>\n",
       "      <td>1.5503</td>\n",
       "      <td>74.0750</td>\n",
       "      <td>80.3694</td>\n",
       "    </tr>\n",
       "    <tr>\n",
       "      <th>Moderate</th>\n",
       "      <td>57</td>\n",
       "      <td>75.4737</td>\n",
       "      <td>14.1208</td>\n",
       "      <td>1.8703</td>\n",
       "      <td>71.7269</td>\n",
       "      <td>79.2204</td>\n",
       "    </tr>\n",
       "  </tbody>\n",
       "</table>\n",
       "</div>"
      ],
      "text/plain": [
       "           N     Mean       SD      SE  95% Conf.  Interval\n",
       "Exercise                                                   \n",
       "High      14  68.6429  12.6892  3.3913    61.3163   75.9694\n",
       "Low       36  77.2222   9.3016  1.5503    74.0750   80.3694\n",
       "Moderate  57  75.4737  14.1208  1.8703    71.7269   79.2204"
      ]
     },
     "execution_count": 16,
     "metadata": {},
     "output_type": "execute_result"
    }
   ],
   "source": [
    "rp.summary_cont(data.groupby('Exercise'))['Pulse1']"
   ]
  },
  {
   "cell_type": "code",
   "execution_count": null,
   "id": "95ceab30",
   "metadata": {},
   "outputs": [],
   "source": [
    "plt.figure(figsize=(12,8))\n",
    "sns.boxplot(data=data, x='Exercise', y = 'Pulse1')\n",
    "plt.show() "
   ]
  },
  {
   "cell_type": "code",
   "execution_count": null,
   "id": "34cb19b4",
   "metadata": {},
   "outputs": [],
   "source": [
    "rp.summary_cont(data.groupby('Exercise'))['Pulse2']"
   ]
  },
  {
   "cell_type": "code",
   "execution_count": null,
   "id": "ed32609d",
   "metadata": {},
   "outputs": [],
   "source": [
    "plt.figure(figsize=(12,8))\n",
    "sns.boxplot(data=data, x='Exercise', y = 'Pulse2')\n",
    "plt.show() "
   ]
  },
  {
   "cell_type": "code",
   "execution_count": null,
   "id": "fd20a76c",
   "metadata": {},
   "outputs": [],
   "source": [
    "# Two-way ANOVA \n",
    "model = ols('Pulse1 ~C(Exercise) + C(BMICat)', data=data).fit()\n",
    "anova_result = sm.stats.anova_lm(model)\n",
    "print(anova_result)"
   ]
  }
 ],
 "metadata": {
  "kernelspec": {
   "display_name": "Python 3",
   "language": "python",
   "name": "python3"
  },
  "language_info": {
   "codemirror_mode": {
    "name": "ipython",
    "version": 3
   },
   "file_extension": ".py",
   "mimetype": "text/x-python",
   "name": "python",
   "nbconvert_exporter": "python",
   "pygments_lexer": "ipython3",
   "version": "3.8.3"
  },
  "latex_envs": {
   "LaTeX_envs_menu_present": true,
   "autoclose": false,
   "autocomplete": true,
   "bibliofile": "biblio.bib",
   "cite_by": "apalike",
   "current_citInitial": 1,
   "eqLabelWithNumbers": true,
   "eqNumInitial": 1,
   "hotkeys": {
    "equation": "Ctrl-E",
    "itemize": "Ctrl-I"
   },
   "labels_anchors": false,
   "latex_user_defs": false,
   "report_style_numbering": false,
   "user_envs_cfg": false
  }
 },
 "nbformat": 4,
 "nbformat_minor": 5
}
