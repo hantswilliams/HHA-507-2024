{
 "cells": [
  {
   "cell_type": "markdown",
   "metadata": {},
   "source": [
    "# Compare Sample Means (parametric)\n",
    "- Student’s t-test\n",
    "- Paired Student’s t-test\n",
    "- Analysis of Variance Test (ANOVA)\n",
    "- Repeated Measures ANOVA Test"
   ]
  },
  {
   "cell_type": "markdown",
   "metadata": {},
   "source": [
    "## t-test\n",
    "- It compares **mean** of **two groups**\n",
    "- It is a parametric statistical test.\n",
    "- It's used to study if there is **statistical difference** between **two groups**"
   ]
  },
  {
   "cell_type": "markdown",
   "metadata": {},
   "source": [
    "## Types of t-test\n",
    "- One sample t-test\n",
    "- Paired t-test(Dependent)\n",
    "- Unpaired t-test(Independent)"
   ]
  },
  {
   "cell_type": "markdown",
   "metadata": {},
   "source": [
    "Unpaired t-test also have 2 categories \n",
    "\n",
    "- Student's t-test\n",
    "  - Equal variance\n",
    "  - Two sample t-test\n",
    "- Welch t-test\n",
    "  - Unequal variance\n",
    "  - Unequal variance t-test"
   ]
  },
  {
   "cell_type": "markdown",
   "metadata": {},
   "source": [
    "## Selection of t-test\n",
    "- One sample t-test(for one sample)\n",
    "- Paired t-test(for dependent samples)\n",
    "- Student t-test(When sample size and variance are equal)\n",
    "- Welch t-test(When sample size and variance are different)\n"
   ]
  },
  {
   "cell_type": "code",
   "execution_count": 1,
   "metadata": {},
   "outputs": [],
   "source": [
    "import statsmodels.api as sm\n",
    "import matplotlib.pyplot as plt\n",
    "import pandas as pd\n",
    "import numpy as np\n",
    "import seaborn as sns \n",
    "sns.set(font_scale=2, palette= \"viridis\")\n",
    "from sklearn.preprocessing import scale\n",
    "import researchpy as rp\n",
    "from scipy import stats"
   ]
  },
  {
   "cell_type": "code",
   "execution_count": 2,
   "metadata": {},
   "outputs": [
    {
     "data": {
      "text/plain": [
       "(108, 12)"
      ]
     },
     "execution_count": 2,
     "metadata": {},
     "output_type": "execute_result"
    }
   ],
   "source": [
    "data = pd.read_csv('../data/pulse_data.csv')\n",
    "data.shape"
   ]
  },
  {
   "cell_type": "code",
   "execution_count": null,
   "metadata": {},
   "outputs": [],
   "source": [
    "data.head()"
   ]
  },
  {
   "cell_type": "markdown",
   "metadata": {},
   "source": [
    "## One Sample t-test\n",
    "It compares the mean of one sample \n",
    "- Known(from previous study) mean ($\\mu$)\n",
    "- Hypothetical mean($\\mu$)\n",
    "\n",
    "### Interpretation\n",
    "__Question: Is the average height different from a established height?__\n",
    "\n",
    "__Hypothesis__ \n",
    "- H0: The average age is $\\mu$ = 20\n",
    "- Ha: The average age is $\\mu$ $\\neq$ 20"
   ]
  },
  {
   "cell_type": "code",
   "execution_count": 3,
   "metadata": {},
   "outputs": [
    {
     "data": {
      "text/plain": [
       "count    108.000000\n",
       "mean       1.732685\n",
       "std        0.101213\n",
       "min        1.400000\n",
       "25%        1.660000\n",
       "50%        1.730000\n",
       "75%        1.800000\n",
       "max        1.950000\n",
       "Name: Height, dtype: float64"
      ]
     },
     "execution_count": 3,
     "metadata": {},
     "output_type": "execute_result"
    }
   ],
   "source": [
    "data['Height'].describe() "
   ]
  },
  {
   "cell_type": "code",
   "execution_count": 4,
   "metadata": {},
   "outputs": [
    {
     "data": {
      "text/plain": [
       "-0.1742048843725248"
      ]
     },
     "execution_count": 4,
     "metadata": {},
     "output_type": "execute_result"
    }
   ],
   "source": [
    "stats.skew(data['Height'])"
   ]
  },
  {
   "cell_type": "code",
   "execution_count": 5,
   "metadata": {},
   "outputs": [
    {
     "data": {
      "text/plain": [
       "0.12817692328295882"
      ]
     },
     "execution_count": 5,
     "metadata": {},
     "output_type": "execute_result"
    }
   ],
   "source": [
    "stats.kurtosis(data['Height'])"
   ]
  },
  {
   "cell_type": "code",
   "execution_count": 6,
   "metadata": {},
   "outputs": [
    {
     "data": {
      "image/png": "[encoded data removed]",
      "text/plain": [
       "<Figure size 432x288 with 1 Axes>"
      ]
     },
     "metadata": {},
     "output_type": "display_data"
    }
   ],
   "source": [
    "sns.histplot(data['Height'], kde=True)\n",
    "plt.show() "
   ]
  },
  {
   "cell_type": "code",
   "execution_count": 7,
   "metadata": {},
   "outputs": [
    {
     "data": {
      "text/plain": [
       "Ttest_1sampResult(statistic=-1875.6386446869226, pvalue=1.7006070725409894e-243)"
      ]
     },
     "execution_count": 7,
     "metadata": {},
     "output_type": "execute_result"
    }
   ],
   "source": [
    "stats.ttest_1samp(data['Height'], 20)"
   ]
  },
  {
   "cell_type": "code",
   "execution_count": 8,
   "metadata": {},
   "outputs": [
    {
     "name": "stdout",
     "output_type": "stream",
     "text": [
      "stat=1.5578736387208711, p-value=0.12221613857427135\n",
      "The average age is 20(fail to reject H0, result is not significant)\n"
     ]
    }
   ],
   "source": [
    "stat, p,  = stats.ttest_1samp(data['Age'], 20)\n",
    "print(f'stat={stat}, p-value={p}') \n",
    "alpha = 0.05 \n",
    "if p > alpha:\n",
    "    print('The average age is 20(fail to reject H0, result is not significant)')\n",
    "else:\n",
    "    print('The average age is not 20(reject H0, result is significant)')"
   ]
  },
  {
   "cell_type": "markdown",
   "metadata": {},
   "source": [
    "## Student's t-test\n",
    "- The independent t-test is also called the two sample t-test, student’s t-test, or unpaired t-test. \n",
    "- It’s an univariate test that tests for a significant difference between the mean of two unrelated groups.\n",
    "- It compares the mean of two independent samples.\n",
    "\n",
    "## Assumptions\n",
    "The assumptions that the data must meet in order for the test results to be valid are:\n",
    "- The independent variable (IV) is categorical with at least two levels (groups)\n",
    "- The dependent variable (DV) is continuous which is measured on an interval or ratio scale\n",
    "- The distribution of the two groups should follow the normal distribution\n",
    "- The variances between the two groups are equal\n",
    "    - This can be tested using statistical tests including Levene’s test, F-test, and Bartlett’s test.\n",
    "\n",
    "If any of these assumptions are violated then another test should be used.\n",
    "\n",
    "\n",
    "### Interpretation\n",
    "__Question: Is there a difference in the height between men and women?__\n",
    "\n",
    "__Hypothesis__\n",
    "- H0: the means of the samples are equal.\n",
    "- Ha: the means of the samples are unequal.\n",
    "\n",
    "__References__\n",
    "\n",
    "https://pythonfordatascienceorg.wordpress.com/independent-t-test-python/"
   ]
  },
  {
   "cell_type": "code",
   "execution_count": 9,
   "metadata": {},
   "outputs": [
    {
     "data": {
      "text/plain": [
       "array(['Female', 'Male'], dtype=object)"
      ]
     },
     "execution_count": 9,
     "metadata": {},
     "output_type": "execute_result"
    }
   ],
   "source": [
    "data['Gender'].unique()"
   ]
  },
  {
   "cell_type": "code",
   "execution_count": 10,
   "metadata": {},
   "outputs": [
    {
     "data": {
      "text/plain": [
       "count    108.000000\n",
       "mean       1.732685\n",
       "std        0.101213\n",
       "min        1.400000\n",
       "25%        1.660000\n",
       "50%        1.730000\n",
       "75%        1.800000\n",
       "max        1.950000\n",
       "Name: Height, dtype: float64"
      ]
     },
     "execution_count": 10,
     "metadata": {},
     "output_type": "execute_result"
    }
   ],
   "source": [
    "data['Height'].describe()"
   ]
  },
  {
   "cell_type": "code",
   "execution_count": 11,
   "metadata": {},
   "outputs": [
    {
     "data": {
      "text/plain": [
       "(108, 12)"
      ]
     },
     "execution_count": 11,
     "metadata": {},
     "output_type": "execute_result"
    }
   ],
   "source": [
    "data.shape"
   ]
  },
  {
   "cell_type": "code",
   "execution_count": 12,
   "metadata": {},
   "outputs": [
    {
     "data": {
      "text/html": [
       "<div>\n",
       "<style scoped>\n",
       "    .dataframe tbody tr th:only-of-type {\n",
       "        vertical-align: middle;\n",
       "    }\n",
       "\n",
       "    .dataframe tbody tr th {\n",
       "        vertical-align: top;\n",
       "    }\n",
       "\n",
       "    .dataframe thead th {\n",
       "        text-align: right;\n",
       "    }\n",
       "</style>\n",
       "<table border=\"1\" class=\"dataframe\">\n",
       "  <thead>\n",
       "    <tr style=\"text-align: right;\">\n",
       "      <th></th>\n",
       "      <th>count</th>\n",
       "      <th>mean</th>\n",
       "      <th>std</th>\n",
       "      <th>min</th>\n",
       "      <th>25%</th>\n",
       "      <th>50%</th>\n",
       "      <th>75%</th>\n",
       "      <th>max</th>\n",
       "    </tr>\n",
       "    <tr>\n",
       "      <th>Gender</th>\n",
       "      <th></th>\n",
       "      <th></th>\n",
       "      <th></th>\n",
       "      <th></th>\n",
       "      <th></th>\n",
       "      <th></th>\n",
       "      <th></th>\n",
       "      <th></th>\n",
       "    </tr>\n",
       "  </thead>\n",
       "  <tbody>\n",
       "    <tr>\n",
       "      <th>Female</th>\n",
       "      <td>50.0</td>\n",
       "      <td>1.659200</td>\n",
       "      <td>0.075831</td>\n",
       "      <td>1.40</td>\n",
       "      <td>1.6225</td>\n",
       "      <td>1.65</td>\n",
       "      <td>1.7100</td>\n",
       "      <td>1.80</td>\n",
       "    </tr>\n",
       "    <tr>\n",
       "      <th>Male</th>\n",
       "      <td>58.0</td>\n",
       "      <td>1.796034</td>\n",
       "      <td>0.073935</td>\n",
       "      <td>1.67</td>\n",
       "      <td>1.7500</td>\n",
       "      <td>1.80</td>\n",
       "      <td>1.8475</td>\n",
       "      <td>1.95</td>\n",
       "    </tr>\n",
       "  </tbody>\n",
       "</table>\n",
       "</div>"
      ],
      "text/plain": [
       "        count      mean       std   min     25%   50%     75%   max\n",
       "Gender                                                             \n",
       "Female   50.0  1.659200  0.075831  1.40  1.6225  1.65  1.7100  1.80\n",
       "Male     58.0  1.796034  0.073935  1.67  1.7500  1.80  1.8475  1.95"
      ]
     },
     "execution_count": 12,
     "metadata": {},
     "output_type": "execute_result"
    }
   ],
   "source": [
    "data.groupby('Gender')['Height'].describe()"
   ]
  },
  {
   "cell_type": "code",
   "execution_count": 13,
   "metadata": {},
   "outputs": [
    {
     "data": {
      "image/png": "[encoded data removed]",
      "text/plain": [
       "<Figure size 720x576 with 1 Axes>"
      ]
     },
     "metadata": {},
     "output_type": "display_data"
    }
   ],
   "source": [
    "plt.figure(figsize=(10,8))\n",
    "sns.boxplot(data=data, x='Height', y=\"Gender\")\n",
    "plt.show()"
   ]
  },
  {
   "cell_type": "code",
   "execution_count": 14,
   "metadata": {},
   "outputs": [],
   "source": [
    "# Subsets of data \n",
    "sample_01 = data[(data['Gender'] == 'Male')]\n",
    "\n",
    "sample_02 = data[(data['Gender'] == 'Female')]"
   ]
  },
  {
   "cell_type": "code",
   "execution_count": 15,
   "metadata": {},
   "outputs": [
    {
     "data": {
      "text/plain": [
       "((58, 12), (50, 12))"
      ]
     },
     "execution_count": 15,
     "metadata": {},
     "output_type": "execute_result"
    }
   ],
   "source": [
    "sample_01.shape, sample_02.shape"
   ]
  },
  {
   "cell_type": "code",
   "execution_count": 16,
   "metadata": {},
   "outputs": [
    {
     "data": {
      "text/plain": [
       "((50, 12), (50, 12))"
      ]
     },
     "execution_count": 16,
     "metadata": {},
     "output_type": "execute_result"
    }
   ],
   "source": [
    "# sample size should be equal \n",
    "sample_01 = sample_01.sample(50)\n",
    "sample_01.shape, sample_02.shape"
   ]
  },
  {
   "cell_type": "markdown",
   "metadata": {},
   "source": [
    "## The Hypothesis Being Tested\n",
    "\n",
    "* Null Hypothesis (H0): u1 = u2, which translates to the mean of `sample_01` is equal to the mean of `sample 02`\n",
    "* Alternative Hypothesis (H1): u1 ? u2, which translates to the means of `sample01` is not equal to `sample 02`"
   ]
  },
  {
   "cell_type": "markdown",
   "metadata": {},
   "source": [
    "## Homogeneity of variance\n",
    "Of these tests, the most common assessment for homogeneity of variance is Levene's test. The Levene's test uses an F-test to test the null hypothesis that the variance is equal across groups. A p value less than .05 indicates a violation of the assumption.\n",
    "\n",
    "https://en.wikipedia.org/wiki/Levene%27s_test\n",
    "\n",
    "https://docs.scipy.org/doc/scipy-0.14.0/reference/generated/scipy.stats.levene.html\n",
    "\n",
    "To know, [Click here](https://en.wikipedia.org/wiki/Levene%27s_test) why we test for levene's test?"
   ]
  },
  {
   "cell_type": "markdown",
   "metadata": {},
   "source": [
    "## Levene's test \n",
    " Levene's test is an inferential statistic used to assess the equality of variances for a variable calculated for two or more groups\n",
    " \n",
    " ### Interpretation\n",
    " - H0: The variances are equal between two groups \n",
    " - Ha: The variances are not equal between two groups "
   ]
  },
  {
   "cell_type": "code",
   "execution_count": 18,
   "metadata": {},
   "outputs": [
    {
     "data": {
      "text/plain": [
       "LeveneResult(statistic=0.003971792169895755, pvalue=0.9498772253776951)"
      ]
     },
     "execution_count": 18,
     "metadata": {},
     "output_type": "execute_result"
    }
   ],
   "source": [
    "stats.levene(sample_01['Height'], sample_02['Height'])"
   ]
  },
  {
   "cell_type": "code",
   "execution_count": 21,
   "metadata": {},
   "outputs": [
    {
     "name": "stdout",
     "output_type": "stream",
     "text": [
      "stat=0.003971792169895755, p-value=0.9498772253776951\n",
      "The variances are equal between two groups(fail to reject H0, not significant)\n"
     ]
    }
   ],
   "source": [
    "stat, p,  = stats.levene(sample_01['Height'], sample_02['Height'])\n",
    "print(f'stat={stat}, p-value={p}')\n",
    "alpha = 0.05 \n",
    "if p > alpha:\n",
    "    print('The variances are equal between two groups(fail to reject H0, not significant)')\n",
    "else:\n",
    "    print('The variances are not equal between two groups(reject H0, significant)')"
   ]
  },
  {
   "cell_type": "markdown",
   "metadata": {},
   "source": [
    "__If the test were to be significant, a viable alternative would be to conduct a Welch’s t-test__"
   ]
  },
  {
   "cell_type": "markdown",
   "metadata": {},
   "source": [
    "## Normal Distribution  of Residuals"
   ]
  },
  {
   "cell_type": "code",
   "execution_count": 22,
   "metadata": {},
   "outputs": [
    {
     "data": {
      "image/png": "[encoded data removed]",
      "text/plain": [
       "<Figure size 864x576 with 1 Axes>"
      ]
     },
     "metadata": {},
     "output_type": "display_data"
    }
   ],
   "source": [
    "plt.figure(figsize=(12,8))\n",
    "sns.histplot(sample_01['Height'], kde=True)\n",
    "plt.show() "
   ]
  },
  {
   "cell_type": "code",
   "execution_count": 23,
   "metadata": {},
   "outputs": [
    {
     "data": {
      "image/png": "[encoded data removed]",
      "text/plain": [
       "<Figure size 864x576 with 1 Axes>"
      ]
     },
     "metadata": {},
     "output_type": "display_data"
    }
   ],
   "source": [
    "# Checking for normality by Q-Q plot graph\n",
    "plt.figure(figsize=(12, 8))\n",
    "stats.probplot(sample_01['Height'], plot=plt, dist='norm')\n",
    "plt.show()"
   ]
  },
  {
   "cell_type": "markdown",
   "metadata": {},
   "source": [
    "__the data should be on the red line. If there are data points that are far off of it, it’s an indication that there are some deviations from normality.__"
   ]
  },
  {
   "cell_type": "markdown",
   "metadata": {},
   "source": [
    "### Checking normal distribution by `shapiro method`\n",
    "- https://docs.scipy.org/doc/scipy/reference/generated/scipy.stats.shapiro.html\n",
    "- https://stats.stackexchange.com/questions/15696/interpretation-of-shapiro-wilk-test"
   ]
  },
  {
   "cell_type": "code",
   "execution_count": 24,
   "metadata": {},
   "outputs": [
    {
     "name": "stdout",
     "output_type": "stream",
     "text": [
      "statistic = 0.9715633392333984, p-value = 0.2676459550857544\n",
      "The sample has normal distribution(Fail to reject the null hypothesis, the result is not significant)\n"
     ]
    }
   ],
   "source": [
    "stat, p_value = stats.shapiro(sample_01['Height'])\n",
    "print(f'statistic = {stat}, p-value = {p_value}')\n",
    "alpha = 0.05 \n",
    "if p_value > alpha: \n",
    "    print(\"The sample has normal distribution(Fail to reject the null hypothesis, the result is not significant)\")\n",
    "else: \n",
    "    print(\"The sample does not have a normal distribution(Reject the null hypothesis, the result is significant)\")"
   ]
  },
  {
   "cell_type": "code",
   "execution_count": 25,
   "metadata": {},
   "outputs": [
    {
     "name": "stdout",
     "output_type": "stream",
     "text": [
      "statistic = 0.9614583253860474, p-value = 0.10232792049646378\n",
      "The sample has normal distribution(Fail to reject the null hypothesis, the result is not significant)\n"
     ]
    }
   ],
   "source": [
    "stat, p_value = stats.shapiro(sample_02['Height'])\n",
    "print(f'statistic = {stat}, p-value = {p_value}')\n",
    "alpha = 0.05 \n",
    "if p_value > alpha: \n",
    "    print(\"The sample has normal distribution(Fail to reject the null hypothesis, the result is not significant)\")\n",
    "else: \n",
    "    print(\"The sample does not have a normal distribution(Reject the null hypothesis, the result is significant)\")"
   ]
  },
  {
   "cell_type": "markdown",
   "metadata": {},
   "source": [
    "__Note:-__[See here](https://stats.stackexchange.com/questions/15696/interpretation-of-shapiro-wilk-test)\n",
    "\n",
    "W test statistic and the second value is the p-value. Since the test statistic does not produce a significant p-value, the data is indicated to be normally distributed\n",
    "\n",
    "The data met all the assumptions for the t-test which indicates the results can be trusted and the t-test is an appropriate test to be used."
   ]
  },
  {
   "cell_type": "markdown",
   "metadata": {},
   "source": [
    "## Independent t-test by using `scipy.stats`"
   ]
  },
  {
   "cell_type": "code",
   "execution_count": 26,
   "metadata": {},
   "outputs": [
    {
     "data": {
      "text/plain": [
       "Ttest_indResult(statistic=9.423826887131927, pvalue=2.156064530440312e-15)"
      ]
     },
     "execution_count": 26,
     "metadata": {},
     "output_type": "execute_result"
    }
   ],
   "source": [
    "stats.ttest_ind(sample_01['Height'], sample_02['Height'])"
   ]
  },
  {
   "cell_type": "code",
   "execution_count": 28,
   "metadata": {},
   "outputs": [
    {
     "name": "stdout",
     "output_type": "stream",
     "text": [
      "stat=9.423826887131927, p-value=2.156064530440312e-15\n",
      "Reject the null hypothesis that the means are not equal between two groups.\n"
     ]
    }
   ],
   "source": [
    "stat, p,  = stats.ttest_ind(sample_01['Height'], sample_02['Height'])\n",
    "print(f'stat={stat}, p-value={p}')\n",
    "alpha =0.05 \n",
    "if p > alpha:\n",
    "    print('Accept null hypothesis that the means are equal between two groups')\n",
    "else:\n",
    "    print('Reject the null hypothesis that the means are not equal between two groups.')"
   ]
  },
  {
   "cell_type": "markdown",
   "metadata": {},
   "source": [
    "## Independent t-test using `researchpy`\n",
    "\n",
    "https://researchpy.readthedocs.io/en/latest/ttest_documentation.html"
   ]
  },
  {
   "cell_type": "code",
   "execution_count": 29,
   "metadata": {},
   "outputs": [
    {
     "data": {
      "text/plain": [
       "(   Variable      N    Mean        SD        SE  95% Conf.  Interval\n",
       " 0    Height   50.0  1.8002  0.073775  0.010433   1.779233  1.821167\n",
       " 1    Height   50.0  1.6592  0.075831  0.010724   1.637649  1.680751\n",
       " 2  combined  100.0  1.7297  0.102764  0.010276   1.709309  1.750091,\n",
       "                 Independent t-test  results\n",
       " 0  Difference (Height - Height) =    0.1410\n",
       " 1            Degrees of freedom =   98.0000\n",
       " 2                             t =    9.4238\n",
       " 3         Two side test p value =    0.0000\n",
       " 4        Difference < 0 p value =    1.0000\n",
       " 5        Difference > 0 p value =    0.0000\n",
       " 6                     Cohen's d =    1.8848\n",
       " 7                     Hedge's g =    1.8703\n",
       " 8                 Glass's delta =    1.9112\n",
       " 9                             r =    0.6895)"
      ]
     },
     "execution_count": 29,
     "metadata": {},
     "output_type": "execute_result"
    }
   ],
   "source": [
    "rp.ttest(sample_01['Height'], sample_02['Height'])"
   ]
  },
  {
   "cell_type": "code",
   "execution_count": 32,
   "metadata": {},
   "outputs": [],
   "source": [
    "descriptives, results = rp.ttest(sample_01['Height'], sample_02['Height'])"
   ]
  },
  {
   "cell_type": "code",
   "execution_count": 33,
   "metadata": {},
   "outputs": [
    {
     "data": {
      "text/html": [
       "<div>\n",
       "<style scoped>\n",
       "    .dataframe tbody tr th:only-of-type {\n",
       "        vertical-align: middle;\n",
       "    }\n",
       "\n",
       "    .dataframe tbody tr th {\n",
       "        vertical-align: top;\n",
       "    }\n",
       "\n",
       "    .dataframe thead th {\n",
       "        text-align: right;\n",
       "    }\n",
       "</style>\n",
       "<table border=\"1\" class=\"dataframe\">\n",
       "  <thead>\n",
       "    <tr style=\"text-align: right;\">\n",
       "      <th></th>\n",
       "      <th>Variable</th>\n",
       "      <th>N</th>\n",
       "      <th>Mean</th>\n",
       "      <th>SD</th>\n",
       "      <th>SE</th>\n",
       "      <th>95% Conf.</th>\n",
       "      <th>Interval</th>\n",
       "    </tr>\n",
       "  </thead>\n",
       "  <tbody>\n",
       "    <tr>\n",
       "      <th>0</th>\n",
       "      <td>Height</td>\n",
       "      <td>50.0</td>\n",
       "      <td>1.8002</td>\n",
       "      <td>0.073775</td>\n",
       "      <td>0.010433</td>\n",
       "      <td>1.779233</td>\n",
       "      <td>1.821167</td>\n",
       "    </tr>\n",
       "    <tr>\n",
       "      <th>1</th>\n",
       "      <td>Height</td>\n",
       "      <td>50.0</td>\n",
       "      <td>1.6592</td>\n",
       "      <td>0.075831</td>\n",
       "      <td>0.010724</td>\n",
       "      <td>1.637649</td>\n",
       "      <td>1.680751</td>\n",
       "    </tr>\n",
       "    <tr>\n",
       "      <th>2</th>\n",
       "      <td>combined</td>\n",
       "      <td>100.0</td>\n",
       "      <td>1.7297</td>\n",
       "      <td>0.102764</td>\n",
       "      <td>0.010276</td>\n",
       "      <td>1.709309</td>\n",
       "      <td>1.750091</td>\n",
       "    </tr>\n",
       "  </tbody>\n",
       "</table>\n",
       "</div>"
      ],
      "text/plain": [
       "   Variable      N    Mean        SD        SE  95% Conf.  Interval\n",
       "0    Height   50.0  1.8002  0.073775  0.010433   1.779233  1.821167\n",
       "1    Height   50.0  1.6592  0.075831  0.010724   1.637649  1.680751\n",
       "2  combined  100.0  1.7297  0.102764  0.010276   1.709309  1.750091"
      ]
     },
     "execution_count": 33,
     "metadata": {},
     "output_type": "execute_result"
    }
   ],
   "source": [
    "descriptives"
   ]
  },
  {
   "cell_type": "code",
   "execution_count": 34,
   "metadata": {
    "scrolled": true
   },
   "outputs": [
    {
     "data": {
      "text/html": [
       "<div>\n",
       "<style scoped>\n",
       "    .dataframe tbody tr th:only-of-type {\n",
       "        vertical-align: middle;\n",
       "    }\n",
       "\n",
       "    .dataframe tbody tr th {\n",
       "        vertical-align: top;\n",
       "    }\n",
       "\n",
       "    .dataframe thead th {\n",
       "        text-align: right;\n",
       "    }\n",
       "</style>\n",
       "<table border=\"1\" class=\"dataframe\">\n",
       "  <thead>\n",
       "    <tr style=\"text-align: right;\">\n",
       "      <th></th>\n",
       "      <th>Independent t-test</th>\n",
       "      <th>results</th>\n",
       "    </tr>\n",
       "  </thead>\n",
       "  <tbody>\n",
       "    <tr>\n",
       "      <th>0</th>\n",
       "      <td>Difference (Height - Height) =</td>\n",
       "      <td>0.1410</td>\n",
       "    </tr>\n",
       "    <tr>\n",
       "      <th>1</th>\n",
       "      <td>Degrees of freedom =</td>\n",
       "      <td>98.0000</td>\n",
       "    </tr>\n",
       "    <tr>\n",
       "      <th>2</th>\n",
       "      <td>t =</td>\n",
       "      <td>9.4238</td>\n",
       "    </tr>\n",
       "    <tr>\n",
       "      <th>3</th>\n",
       "      <td>Two side test p value =</td>\n",
       "      <td>0.0000</td>\n",
       "    </tr>\n",
       "    <tr>\n",
       "      <th>4</th>\n",
       "      <td>Difference &lt; 0 p value =</td>\n",
       "      <td>1.0000</td>\n",
       "    </tr>\n",
       "    <tr>\n",
       "      <th>5</th>\n",
       "      <td>Difference &gt; 0 p value =</td>\n",
       "      <td>0.0000</td>\n",
       "    </tr>\n",
       "    <tr>\n",
       "      <th>6</th>\n",
       "      <td>Cohen's d =</td>\n",
       "      <td>1.8848</td>\n",
       "    </tr>\n",
       "    <tr>\n",
       "      <th>7</th>\n",
       "      <td>Hedge's g =</td>\n",
       "      <td>1.8703</td>\n",
       "    </tr>\n",
       "    <tr>\n",
       "      <th>8</th>\n",
       "      <td>Glass's delta =</td>\n",
       "      <td>1.9112</td>\n",
       "    </tr>\n",
       "    <tr>\n",
       "      <th>9</th>\n",
       "      <td>r =</td>\n",
       "      <td>0.6895</td>\n",
       "    </tr>\n",
       "  </tbody>\n",
       "</table>\n",
       "</div>"
      ],
      "text/plain": [
       "                Independent t-test  results\n",
       "0  Difference (Height - Height) =    0.1410\n",
       "1            Degrees of freedom =   98.0000\n",
       "2                             t =    9.4238\n",
       "3         Two side test p value =    0.0000\n",
       "4        Difference < 0 p value =    1.0000\n",
       "5        Difference > 0 p value =    0.0000\n",
       "6                     Cohen's d =    1.8848\n",
       "7                     Hedge's g =    1.8703\n",
       "8                 Glass's delta =    1.9112\n",
       "9                             r =    0.6895"
      ]
     },
     "execution_count": 34,
     "metadata": {},
     "output_type": "execute_result"
    }
   ],
   "source": [
    "results"
   ]
  },
  {
   "cell_type": "markdown",
   "metadata": {},
   "source": [
    "## Paired t-test\n",
    "- It compares the mean between two related samples.(each subject is measured twice)"
   ]
  },
  {
   "cell_type": "code",
   "execution_count": 35,
   "metadata": {},
   "outputs": [
    {
     "data": {
      "text/html": [
       "<div>\n",
       "<style scoped>\n",
       "    .dataframe tbody tr th:only-of-type {\n",
       "        vertical-align: middle;\n",
       "    }\n",
       "\n",
       "    .dataframe tbody tr th {\n",
       "        vertical-align: top;\n",
       "    }\n",
       "\n",
       "    .dataframe thead th {\n",
       "        text-align: right;\n",
       "    }\n",
       "</style>\n",
       "<table border=\"1\" class=\"dataframe\">\n",
       "  <thead>\n",
       "    <tr style=\"text-align: right;\">\n",
       "      <th></th>\n",
       "      <th>patient</th>\n",
       "      <th>sex</th>\n",
       "      <th>agegroup</th>\n",
       "      <th>bp_before</th>\n",
       "      <th>bp_after</th>\n",
       "    </tr>\n",
       "  </thead>\n",
       "  <tbody>\n",
       "    <tr>\n",
       "      <th>0</th>\n",
       "      <td>1</td>\n",
       "      <td>Male</td>\n",
       "      <td>30-45</td>\n",
       "      <td>143</td>\n",
       "      <td>153</td>\n",
       "    </tr>\n",
       "    <tr>\n",
       "      <th>1</th>\n",
       "      <td>2</td>\n",
       "      <td>Male</td>\n",
       "      <td>30-45</td>\n",
       "      <td>163</td>\n",
       "      <td>170</td>\n",
       "    </tr>\n",
       "    <tr>\n",
       "      <th>2</th>\n",
       "      <td>3</td>\n",
       "      <td>Male</td>\n",
       "      <td>30-45</td>\n",
       "      <td>153</td>\n",
       "      <td>168</td>\n",
       "    </tr>\n",
       "    <tr>\n",
       "      <th>3</th>\n",
       "      <td>4</td>\n",
       "      <td>Male</td>\n",
       "      <td>30-45</td>\n",
       "      <td>153</td>\n",
       "      <td>142</td>\n",
       "    </tr>\n",
       "    <tr>\n",
       "      <th>4</th>\n",
       "      <td>5</td>\n",
       "      <td>Male</td>\n",
       "      <td>30-45</td>\n",
       "      <td>146</td>\n",
       "      <td>141</td>\n",
       "    </tr>\n",
       "  </tbody>\n",
       "</table>\n",
       "</div>"
      ],
      "text/plain": [
       "   patient   sex agegroup  bp_before  bp_after\n",
       "0        1  Male    30-45        143       153\n",
       "1        2  Male    30-45        163       170\n",
       "2        3  Male    30-45        153       168\n",
       "3        4  Male    30-45        153       142\n",
       "4        5  Male    30-45        146       141"
      ]
     },
     "execution_count": 35,
     "metadata": {},
     "output_type": "execute_result"
    }
   ],
   "source": [
    "bp_reading = pd.read_csv('../data/blood_pressure.csv')\n",
    "bp_reading.head() "
   ]
  },
  {
   "cell_type": "code",
   "execution_count": 36,
   "metadata": {},
   "outputs": [
    {
     "data": {
      "text/plain": [
       "(120, 5)"
      ]
     },
     "execution_count": 36,
     "metadata": {},
     "output_type": "execute_result"
    }
   ],
   "source": [
    "bp_reading.shape"
   ]
  },
  {
   "cell_type": "code",
   "execution_count": 37,
   "metadata": {},
   "outputs": [
    {
     "data": {
      "text/html": [
       "<div>\n",
       "<style scoped>\n",
       "    .dataframe tbody tr th:only-of-type {\n",
       "        vertical-align: middle;\n",
       "    }\n",
       "\n",
       "    .dataframe tbody tr th {\n",
       "        vertical-align: top;\n",
       "    }\n",
       "\n",
       "    .dataframe thead th {\n",
       "        text-align: right;\n",
       "    }\n",
       "</style>\n",
       "<table border=\"1\" class=\"dataframe\">\n",
       "  <thead>\n",
       "    <tr style=\"text-align: right;\">\n",
       "      <th></th>\n",
       "      <th>count</th>\n",
       "      <th>mean</th>\n",
       "      <th>std</th>\n",
       "      <th>min</th>\n",
       "      <th>25%</th>\n",
       "      <th>50%</th>\n",
       "      <th>75%</th>\n",
       "      <th>max</th>\n",
       "    </tr>\n",
       "  </thead>\n",
       "  <tbody>\n",
       "    <tr>\n",
       "      <th>patient</th>\n",
       "      <td>120.0</td>\n",
       "      <td>60.500000</td>\n",
       "      <td>34.785054</td>\n",
       "      <td>1.0</td>\n",
       "      <td>30.75</td>\n",
       "      <td>60.5</td>\n",
       "      <td>90.25</td>\n",
       "      <td>120.0</td>\n",
       "    </tr>\n",
       "    <tr>\n",
       "      <th>bp_before</th>\n",
       "      <td>120.0</td>\n",
       "      <td>156.450000</td>\n",
       "      <td>11.389845</td>\n",
       "      <td>138.0</td>\n",
       "      <td>147.00</td>\n",
       "      <td>154.5</td>\n",
       "      <td>164.00</td>\n",
       "      <td>185.0</td>\n",
       "    </tr>\n",
       "    <tr>\n",
       "      <th>bp_after</th>\n",
       "      <td>120.0</td>\n",
       "      <td>151.358333</td>\n",
       "      <td>14.177622</td>\n",
       "      <td>125.0</td>\n",
       "      <td>140.75</td>\n",
       "      <td>149.5</td>\n",
       "      <td>161.00</td>\n",
       "      <td>185.0</td>\n",
       "    </tr>\n",
       "  </tbody>\n",
       "</table>\n",
       "</div>"
      ],
      "text/plain": [
       "           count        mean        std    min     25%    50%     75%    max\n",
       "patient    120.0   60.500000  34.785054    1.0   30.75   60.5   90.25  120.0\n",
       "bp_before  120.0  156.450000  11.389845  138.0  147.00  154.5  164.00  185.0\n",
       "bp_after   120.0  151.358333  14.177622  125.0  140.75  149.5  161.00  185.0"
      ]
     },
     "execution_count": 37,
     "metadata": {},
     "output_type": "execute_result"
    }
   ],
   "source": [
    "bp_reading.describe().T"
   ]
  },
  {
   "cell_type": "code",
   "execution_count": 38,
   "metadata": {},
   "outputs": [
    {
     "data": {
      "image/png": "[encoded data removed]",
      "text/plain": [
       "<Figure size 864x576 with 1 Axes>"
      ]
     },
     "metadata": {},
     "output_type": "display_data"
    }
   ],
   "source": [
    "bp_reading[['bp_before', 'bp_after']].boxplot(figsize=(12, 8))\n",
    "plt.show() "
   ]
  },
  {
   "cell_type": "markdown",
   "metadata": {},
   "source": [
    "## The Hypothesis Being Tested\n",
    "* Null Hypothesis (H0): u1 = u2, which translates to the mean of sample 01 is equal to the mean of sample 02\n",
    "* Alternative hypothesis (Ha): u1 ? u2, which translates to the means of sample 01 is not equal to sample 02"
   ]
  },
  {
   "cell_type": "markdown",
   "metadata": {},
   "source": [
    "## Assumption check \n",
    "\n",
    "* The samples are independently and randomly drawn\n",
    "* The distribution of the residuals between the two groups should follow the normal distribution\n",
    "* The variances between the two groups are equal"
   ]
  },
  {
   "cell_type": "code",
   "execution_count": 39,
   "metadata": {},
   "outputs": [
    {
     "name": "stdout",
     "output_type": "stream",
     "text": [
      "stat=4.863729003161597, p-value=0.028383666362347747\n",
      "Reject the null hypothesis that the variances are not equal between two groups.\n"
     ]
    }
   ],
   "source": [
    "stat, p,  = stats.levene(bp_reading['bp_after'], bp_reading['bp_before'])\n",
    "print(f'stat={stat}, p-value={p}')\n",
    "alpha = 0.05 \n",
    "if p > alpha:\n",
    "    print('Accept null hypothesis that the variances are equal between two groups')\n",
    "else:\n",
    "    print('Reject the null hypothesis that the variances are not equal between two groups.')"
   ]
  },
  {
   "cell_type": "code",
   "execution_count": null,
   "metadata": {},
   "outputs": [],
   "source": [
    "bp_reading['bp_diff'] = scale(bp_reading['bp_after'] - bp_reading['bp_before'])\n",
    "bp_reading.head() "
   ]
  },
  {
   "cell_type": "code",
   "execution_count": null,
   "metadata": {},
   "outputs": [],
   "source": [
    "bp_reading[['bp_diff']].head()"
   ]
  },
  {
   "cell_type": "code",
   "execution_count": null,
   "metadata": {},
   "outputs": [],
   "source": [
    "bp_reading[['bp_diff']].hist(figsize=(12, 8))\n",
    "plt.show() "
   ]
  },
  {
   "cell_type": "code",
   "execution_count": null,
   "metadata": {},
   "outputs": [],
   "source": [
    "plt.figure(figsize=(15, 8))\n",
    "stats.probplot(bp_reading['bp_diff'], plot=plt)\n",
    "\n",
    "plt.title('Blood pressure difference Q-Q plot')\n",
    "plt.show()"
   ]
  },
  {
   "cell_type": "markdown",
   "metadata": {},
   "source": [
    "**Note:-** The corresponding points are lies very close to line that means are our sample data sets are normally distributed"
   ]
  },
  {
   "cell_type": "code",
   "execution_count": null,
   "metadata": {},
   "outputs": [],
   "source": [
    "stat, p_value = stats.shapiro(bp_reading['bp_diff'])\n",
    "print(f'statistic = {stat}, p-value = {p_value}')\n",
    "alpha = 0.05 \n",
    "if p_value > alpha: \n",
    "    print(\"The sample has normal distribution(Fail to reject the null hypothesis, the result is not significant)\")\n",
    "else: \n",
    "    print(\"The sample does not have a normal distribution(Reject the null hypothesis, the result is significant)\")"
   ]
  },
  {
   "cell_type": "markdown",
   "metadata": {},
   "source": [
    "## Using Researchpy\n",
    "- https://researchpy.readthedocs.io/en/latest/ttest_documentation.html"
   ]
  },
  {
   "cell_type": "code",
   "execution_count": 40,
   "metadata": {},
   "outputs": [
    {
     "data": {
      "text/html": [
       "<div>\n",
       "<style scoped>\n",
       "    .dataframe tbody tr th:only-of-type {\n",
       "        vertical-align: middle;\n",
       "    }\n",
       "\n",
       "    .dataframe tbody tr th {\n",
       "        vertical-align: top;\n",
       "    }\n",
       "\n",
       "    .dataframe thead th {\n",
       "        text-align: right;\n",
       "    }\n",
       "</style>\n",
       "<table border=\"1\" class=\"dataframe\">\n",
       "  <thead>\n",
       "    <tr style=\"text-align: right;\">\n",
       "      <th></th>\n",
       "      <th>Wilcoxon signed-rank test</th>\n",
       "      <th>results</th>\n",
       "    </tr>\n",
       "  </thead>\n",
       "  <tbody>\n",
       "    <tr>\n",
       "      <th>0</th>\n",
       "      <td>Mean for bp_after =</td>\n",
       "      <td>151.358333</td>\n",
       "    </tr>\n",
       "    <tr>\n",
       "      <th>1</th>\n",
       "      <td>Mean for bp_before =</td>\n",
       "      <td>156.450000</td>\n",
       "    </tr>\n",
       "    <tr>\n",
       "      <th>2</th>\n",
       "      <td>T value =</td>\n",
       "      <td>2234.500000</td>\n",
       "    </tr>\n",
       "    <tr>\n",
       "      <th>3</th>\n",
       "      <td>Z value =</td>\n",
       "      <td>-3.191600</td>\n",
       "    </tr>\n",
       "    <tr>\n",
       "      <th>4</th>\n",
       "      <td>Two sided p value =</td>\n",
       "      <td>0.001400</td>\n",
       "    </tr>\n",
       "    <tr>\n",
       "      <th>5</th>\n",
       "      <td>r =</td>\n",
       "      <td>-0.206000</td>\n",
       "    </tr>\n",
       "  </tbody>\n",
       "</table>\n",
       "</div>"
      ],
      "text/plain": [
       "  Wilcoxon signed-rank test      results\n",
       "0      Mean for bp_after =    151.358333\n",
       "1     Mean for bp_before =    156.450000\n",
       "2                T value =   2234.500000\n",
       "3                Z value =     -3.191600\n",
       "4      Two sided p value =      0.001400\n",
       "5                      r =     -0.206000"
      ]
     },
     "execution_count": 40,
     "metadata": {},
     "output_type": "execute_result"
    }
   ],
   "source": [
    "rp.ttest(bp_reading['bp_after'], bp_reading['bp_before'], \n",
    "         paired = True, equal_variances=False)"
   ]
  },
  {
   "cell_type": "markdown",
   "metadata": {},
   "source": [
    "## Welch's t-test\n",
    "- It compares the mean of two independent samples.\n",
    "- It assumes:\n",
    "  - Samples don't have equal variance\n",
    "  - Sample size is not equal. \n",
    "  \n",
    "Welch's t-test Assumptions\n",
    "Like every test, this inferential statistic test has assumptions. The assumptions that the data must meet in order for the test results to be valid are:\n",
    "\n",
    "- The independent variable (IV) is categorical with at least two levels (groups)\n",
    "- The dependent variable (DV) is continuous which is measured on an interval or ratio scale\n",
    "- The distribution of the two groups should follow the normal distribution\n",
    "If any of these assumptions are violated then another test should be used.\n",
    "\n",
    "## Interpretation\n",
    "- **Null hypothesis (H0):** u1 = u2, which translates to the mean of sample 1 is equal to the mean of sample 2\n",
    "- **Alternative hypothesis (HA):** u1 ≠ u2, which translates to the mean of sample 1 is not equal to the mean of sample 2"
   ]
  },
  {
   "cell_type": "code",
   "execution_count": null,
   "metadata": {},
   "outputs": [],
   "source": [
    "us_mortality = pd.read_csv('../data/USRegionalMortality.csv')\n",
    "us_mortality.head() "
   ]
  },
  {
   "cell_type": "code",
   "execution_count": null,
   "metadata": {},
   "outputs": [],
   "source": [
    "sample_01 = us_mortality[(us_mortality['Cause'] == \"Heart disease\") & (us_mortality['Sex'] == 'Male')]\n",
    "\n",
    "sample_02 = us_mortality[(us_mortality['Cause'] == \"Heart disease\") & (us_mortality['Sex'] == 'Female')]"
   ]
  },
  {
   "cell_type": "code",
   "execution_count": null,
   "metadata": {},
   "outputs": [],
   "source": [
    "sample_01.shape, sample_02.shape"
   ]
  },
  {
   "cell_type": "code",
   "execution_count": null,
   "metadata": {},
   "outputs": [],
   "source": [
    "stat, p_value =stats.shapiro(sample_01['Rate'])\n",
    "print(f'statistic = {stat}, p-value = {p_value}')\n",
    "alpha = 0.05 \n",
    "if p_value > alpha: \n",
    "    print(\"The sample has normal distribution(Fail to reject the null hypothesis, the result is not significant)\")\n",
    "else: \n",
    "    print(\"The sample does not have a normal distribution(Reject the null hypothesis, the result is significant)\")"
   ]
  },
  {
   "cell_type": "code",
   "execution_count": null,
   "metadata": {},
   "outputs": [],
   "source": [
    "stat, p_value =stats.shapiro(sample_02['Rate'])\n",
    "print(f'statistic = {stat}, p-value = {p_value}')\n",
    "alpha = 0.05 \n",
    "if p_value > alpha: \n",
    "    print(\"The sample has normal distribution(Fail to reject the null hypothesis, the result is not significant)\")\n",
    "else: \n",
    "    print(\"The sample does not have a normal distribution(Reject the null hypothesis, the result is significant)\")"
   ]
  },
  {
   "cell_type": "code",
   "execution_count": null,
   "metadata": {},
   "outputs": [],
   "source": [
    "stats.ttest_ind(sample_01['Rate'], sample_02['Rate'], equal_var = False)"
   ]
  },
  {
   "cell_type": "code",
   "execution_count": null,
   "metadata": {},
   "outputs": [],
   "source": [
    "stat, p_value =stats.ttest_ind(sample_01['Rate'], sample_02['Rate'], equal_var = False)\n",
    "print(f'statistic = {stat}, p-value = {p_value}')\n",
    "alpha = 0.05 \n",
    "if p_value > alpha: \n",
    "    print(\"The sample means are equal (Fail to reject the null hypothesis, the result is not significant)\")\n",
    "else: \n",
    "    print(\"The sample means are not equal (Reject the null hypothesis, the result is significant)\")"
   ]
  },
  {
   "cell_type": "markdown",
   "metadata": {},
   "source": [
    "## Using Researchpy\n",
    "- https://researchpy.readthedocs.io/en/latest/ttest_documentation.html"
   ]
  },
  {
   "cell_type": "code",
   "execution_count": null,
   "metadata": {},
   "outputs": [],
   "source": [
    "des, res = rp.ttest(sample_01['Rate'], sample_01['Rate'],\n",
    "                            equal_variances= False)"
   ]
  },
  {
   "cell_type": "code",
   "execution_count": null,
   "metadata": {},
   "outputs": [],
   "source": [
    "des"
   ]
  },
  {
   "cell_type": "code",
   "execution_count": null,
   "metadata": {},
   "outputs": [],
   "source": [
    "res "
   ]
  }
 ],
 "metadata": {
  "kernelspec": {
   "display_name": "Python 3",
   "language": "python",
   "name": "python3"
  },
  "language_info": {
   "codemirror_mode": {
    "name": "ipython",
    "version": 3
   },
   "file_extension": ".py",
   "mimetype": "text/x-python",
   "name": "python",
   "nbconvert_exporter": "python",
   "pygments_lexer": "ipython3",
   "version": "3.8.3"
  },
  "latex_envs": {
   "LaTeX_envs_menu_present": true,
   "autoclose": false,
   "autocomplete": true,
   "bibliofile": "biblio.bib",
   "cite_by": "apalike",
   "current_citInitial": 1,
   "eqLabelWithNumbers": true,
   "eqNumInitial": 1,
   "hotkeys": {
    "equation": "Ctrl-E",
    "itemize": "Ctrl-I"
   },
   "labels_anchors": false,
   "latex_user_defs": false,
   "report_style_numbering": false,
   "user_envs_cfg": false
  }
 },
 "nbformat": 4,
 "nbformat_minor": 2
}
