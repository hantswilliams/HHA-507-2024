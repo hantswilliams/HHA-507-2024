{
 "cells": [
  {
   "cell_type": "markdown",
   "id": "e8cfd25f",
   "metadata": {},
   "source": [
    "# Understanding and Interpreting Data using Descriptive Statistics\n",
    "## Data Analysis Workflow\n",
    "- Data Collection\n",
    "- Importing Data\n",
    "- Data Cleaning\n",
    "  - Handling Missing Data\n",
    "  - Outlier Detection and Removal\n",
    "- Exploring Data using Descriptive Statistics\n",
    "  - Understanding Data using\n",
    "    - Univariate Analysis\n",
    "    - Bivariate Analysis\n",
    "    - Multivariate Analysis\n",
    "  - Understanding Data using Visualizations\n",
    "    - Univariate\n",
    "      - Histograms\n",
    "      - Density Plot\n",
    "    - Bivariate\n",
    "      - Scatter Plot\n",
    "      - Boxplot\n",
    "    - Multivariate\n",
    "      - Correlation Matrix\n",
    "      - Covariance Matrix\n",
    "- Decision Making using Inferential Statistics\n",
    "  - Hypothesis Testing(T-Test, Z-Test, Chi-square, ANOVA)\n",
    "  - Creating Predicting Models"
   ]
  },
  {
   "cell_type": "markdown",
   "id": "4c33170f",
   "metadata": {},
   "source": [
    "## Dataset \n",
    "### Source\n",
    "- http://www.statsci.org/data/oz/ms212.html\n",
    "\n",
    "The data was supplied by Dr Richard J. Wilson, Department of Mathematics,\n",
    "University of Queensland. Original data file is tab-delimited text.\n",
    "\n",
    "### Description\n",
    "110 students in an introductory statistics class (MS212 taught by Professor John Eccleston and Dr Richard Wilson\n",
    "at The University of Queensland) participated in a simple experiment. The students took their own pulse rate.\n",
    "They were then asked to flip a coin. If the coin came up heads, they were to run in place for one minute.\n",
    "Otherwise they sat for one minute. Then everyone took their pulse again. The pulse rates and other physiological\n",
    "and lifestyle data are given in the data. There was missing data for one student and seemingly incorrect values for\n",
    "heights for two students. These observations were removed resulting in 107 subjects in the final dataset.\n",
    "Five class groups between 1993 and 1998 participated in the experiment. The lecturer, Richard Wilson, was\n",
    "concerned that some students would choose the less strenuous option of sitting rather than running even if their\n",
    "coin came up heads, so in the years 1995-1998 a different method of random assignment was used. In these\n",
    "years, data forms were handed out to the class before the experiment. The forms were pre-assigned to either\n",
    "running or non-running and there were an equal number of each. In 1995 and 1998 not all of the forms were\n",
    "returned so the numbers running and sitting was still not entirely controlled.\n",
    "\n",
    "### Variable Information \n",
    "![](../img/data_docs.png)"
   ]
  },
  {
   "cell_type": "markdown",
   "id": "0db2c4e4",
   "metadata": {},
   "source": [
    "## Importing Data"
   ]
  },
  {
   "cell_type": "code",
   "execution_count": null,
   "id": "68a5e0ae",
   "metadata": {},
   "outputs": [],
   "source": [
    "import pandas as pd \n",
    "import numpy as np \n",
    "import matplotlib.pyplot as plt \n",
    "import seaborn as sns "
   ]
  },
  {
   "cell_type": "code",
   "execution_count": null,
   "id": "209b8cdf",
   "metadata": {},
   "outputs": [],
   "source": [
    "data = pd.read_table('../data/pulse.txt')"
   ]
  },
  {
   "cell_type": "markdown",
   "id": "098e4771",
   "metadata": {},
   "source": [
    "## Exploring Data "
   ]
  },
  {
   "cell_type": "code",
   "execution_count": null,
   "id": "003815c5",
   "metadata": {},
   "outputs": [],
   "source": [
    "data.head() "
   ]
  },
  {
   "cell_type": "code",
   "execution_count": null,
   "id": "bd2b2905",
   "metadata": {},
   "outputs": [],
   "source": [
    "data.tail() "
   ]
  },
  {
   "cell_type": "code",
   "execution_count": null,
   "id": "e9645c5a",
   "metadata": {},
   "outputs": [],
   "source": [
    "data.shape"
   ]
  },
  {
   "cell_type": "code",
   "execution_count": null,
   "id": "874cb8c3",
   "metadata": {},
   "outputs": [],
   "source": [
    "data.columns"
   ]
  },
  {
   "cell_type": "code",
   "execution_count": null,
   "id": "da587121",
   "metadata": {},
   "outputs": [],
   "source": [
    "data.dtypes"
   ]
  },
  {
   "cell_type": "code",
   "execution_count": null,
   "id": "518d995c",
   "metadata": {},
   "outputs": [],
   "source": [
    "data.info() "
   ]
  },
  {
   "cell_type": "markdown",
   "id": "90470726",
   "metadata": {},
   "source": [
    "## Data Preprocessing \n",
    "- Rename variables \n",
    "- Check missing values \n",
    "- Remove missing values \n",
    "- Check duplicate rows \n",
    "- Drop duplicate rows \n",
    "- Creating new variables \n",
    "- Outliers detection and removal"
   ]
  },
  {
   "cell_type": "markdown",
   "id": "07e09778",
   "metadata": {},
   "source": [
    "## Missing Values "
   ]
  },
  {
   "cell_type": "code",
   "execution_count": null,
   "id": "030d8184",
   "metadata": {},
   "outputs": [],
   "source": [
    "data.isnull().sum()"
   ]
  },
  {
   "cell_type": "code",
   "execution_count": null,
   "id": "4af96a3c",
   "metadata": {},
   "outputs": [],
   "source": [
    "plt.figure(figsize=(12,8))\n",
    "sns.heatmap(data.isnull(), cmap=\"viridis\")\n",
    "plt.show()"
   ]
  },
  {
   "cell_type": "code",
   "execution_count": null,
   "id": "cbaf9413",
   "metadata": {},
   "outputs": [],
   "source": [
    "# impute with mean \n",
    "data['Pulse1'] = data['Pulse1'].fillna(data['Pulse1'].mean())"
   ]
  },
  {
   "cell_type": "code",
   "execution_count": null,
   "id": "0ba912f9",
   "metadata": {},
   "outputs": [],
   "source": [
    "data['Pulse2'] = data['Pulse2'].fillna(data['Pulse1'].mean())"
   ]
  },
  {
   "cell_type": "code",
   "execution_count": null,
   "id": "5221c7a3",
   "metadata": {},
   "outputs": [],
   "source": [
    "data.isnull().sum() "
   ]
  },
  {
   "cell_type": "markdown",
   "id": "999250e5",
   "metadata": {},
   "source": [
    "### Duplicate Rows"
   ]
  },
  {
   "cell_type": "code",
   "execution_count": null,
   "id": "aa28b653",
   "metadata": {},
   "outputs": [],
   "source": [
    "data.duplicated().sum() "
   ]
  },
  {
   "cell_type": "markdown",
   "id": "1b41757e",
   "metadata": {},
   "source": [
    "### Outliers Detection and Removal "
   ]
  },
  {
   "cell_type": "code",
   "execution_count": null,
   "id": "54e49233",
   "metadata": {},
   "outputs": [],
   "source": [
    "data.describe() "
   ]
  },
  {
   "cell_type": "code",
   "execution_count": null,
   "id": "10ac7601",
   "metadata": {},
   "outputs": [],
   "source": [
    "data.quantile(0.25)"
   ]
  },
  {
   "cell_type": "code",
   "execution_count": null,
   "id": "0e481202",
   "metadata": {},
   "outputs": [],
   "source": [
    "# calculate quantile \n",
    "Q1, Q2, Q3 = data['Height'].quantile([.25, .50, .75])\n",
    "print(\"Q1 25 percentile of the given data is: \", Q1)\n",
    "print(\"Q2 50 percentile of the given data is: \", Q2)\n",
    "print(\"Q3 75 percentile of the given data is: \", Q3)"
   ]
  },
  {
   "cell_type": "code",
   "execution_count": null,
   "id": "40537e15",
   "metadata": {},
   "outputs": [],
   "source": [
    "r = data.Height.max() - data.Height.min() \n",
    "print(r)"
   ]
  },
  {
   "cell_type": "code",
   "execution_count": null,
   "id": "258bdac3",
   "metadata": {},
   "outputs": [],
   "source": [
    "# iqr \n",
    "IQR = Q3 - Q1 \n",
    "print(IQR)"
   ]
  },
  {
   "cell_type": "code",
   "execution_count": null,
   "id": "64371b5d",
   "metadata": {},
   "outputs": [],
   "source": [
    "# set upper and lower limit [Q1 - 1.5 x IQR, Q3 + 1.5 x IQR]\n",
    "lower = Q1 - 1.5 * IQR \n",
    "upper = Q3 + 1.5 * IQR \n",
    "lower, upper"
   ]
  },
  {
   "cell_type": "code",
   "execution_count": null,
   "id": "3bcb72f7",
   "metadata": {},
   "outputs": [],
   "source": [
    "data.shape"
   ]
  },
  {
   "cell_type": "code",
   "execution_count": null,
   "id": "2129c74b",
   "metadata": {},
   "outputs": [],
   "source": [
    "# detect & removal outliers \n",
    "data_new = data[(data['Height'] < upper) & (data['Height'] > lower)]\n",
    "data_new"
   ]
  },
  {
   "cell_type": "code",
   "execution_count": null,
   "id": "7d93d38b",
   "metadata": {},
   "outputs": [],
   "source": [
    "data.shape, data_new.shape "
   ]
  },
  {
   "cell_type": "markdown",
   "id": "940b7b09",
   "metadata": {},
   "source": [
    "### Creating New Variable"
   ]
  },
  {
   "cell_type": "code",
   "execution_count": null,
   "id": "8016d5bc",
   "metadata": {},
   "outputs": [],
   "source": [
    "data.head() "
   ]
  },
  {
   "cell_type": "code",
   "execution_count": null,
   "id": "5dcc0ac6",
   "metadata": {},
   "outputs": [],
   "source": [
    "data['BMI'] = data['Weight']/(data['Height']/100*data['Height']/100)\n",
    "data.head() "
   ]
  },
  {
   "cell_type": "code",
   "execution_count": null,
   "id": "487b04f7",
   "metadata": {},
   "outputs": [],
   "source": [
    "# 1 = Underweight, 2 = Normal, 3 = Overweight, 4 = Obese\n",
    "def bmicat(bmi): \n",
    "    if 0 <= bmi < 19.5: \n",
    "        return 1 \n",
    "    elif 18.5 <= bmi < 25: \n",
    "        return 2 \n",
    "    elif 25 <= bmi < 30: \n",
    "        return 3 \n",
    "    else: \n",
    "        return 4 "
   ]
  },
  {
   "cell_type": "code",
   "execution_count": null,
   "id": "1e7a933e",
   "metadata": {},
   "outputs": [],
   "source": [
    "data[\"BMICat\"] = data[\"BMI\"].apply(bmicat)\n",
    "data.head() "
   ]
  },
  {
   "cell_type": "markdown",
   "id": "ae1af494",
   "metadata": {},
   "source": [
    "### Natural Logarithm Transformation"
   ]
  },
  {
   "cell_type": "code",
   "execution_count": null,
   "id": "84aa5896",
   "metadata": {},
   "outputs": [],
   "source": [
    "data['WeightLog10'] = np.log10(data['Weight'])\n",
    "data.head() "
   ]
  },
  {
   "cell_type": "markdown",
   "id": "52d01bc6",
   "metadata": {},
   "source": [
    "### Standardize a Variable"
   ]
  },
  {
   "cell_type": "code",
   "execution_count": null,
   "id": "b4af2de1",
   "metadata": {},
   "outputs": [],
   "source": [
    "data['AgeStd'] = (data['Age'] - data['Age'].mean())/data['Age'].std() \n",
    "data.head() "
   ]
  },
  {
   "cell_type": "markdown",
   "id": "2ab9d81a",
   "metadata": {},
   "source": [
    "## Identifying Variables"
   ]
  },
  {
   "cell_type": "code",
   "execution_count": null,
   "id": "acc7ec89",
   "metadata": {},
   "outputs": [],
   "source": [
    "data.columns"
   ]
  },
  {
   "cell_type": "markdown",
   "id": "a10ae21e",
   "metadata": {},
   "source": [
    "### Categorical Variables \n",
    "- Gender\n",
    "- Smokes\n",
    "- Alcohol\n",
    "- Exercise\n",
    "- Ran\n",
    "- BMICat\n",
    "### Numerical Variables \n",
    "- Height\n",
    "- Weight\n",
    "- Age\n",
    "- Pulse1\n",
    "- Pulse2"
   ]
  },
  {
   "cell_type": "markdown",
   "id": "c448dddc",
   "metadata": {},
   "source": [
    "## Qualitative Univariate Analysis "
   ]
  },
  {
   "cell_type": "markdown",
   "id": "8e873260",
   "metadata": {},
   "source": [
    "### Frequency Distribution: One-way Table "
   ]
  },
  {
   "cell_type": "code",
   "execution_count": null,
   "id": "bd136ecc",
   "metadata": {},
   "outputs": [],
   "source": [
    "import researchpy as rp "
   ]
  },
  {
   "cell_type": "code",
   "execution_count": null,
   "id": "8c2763a0",
   "metadata": {},
   "outputs": [],
   "source": [
    "rp.summary_cat(data['Gender'])"
   ]
  },
  {
   "cell_type": "code",
   "execution_count": null,
   "id": "568bfd23",
   "metadata": {},
   "outputs": [],
   "source": [
    "rp.summary_cat(data[['Gender', 'Smokes', 'Alcohol', 'Exercise']])"
   ]
  },
  {
   "cell_type": "code",
   "execution_count": null,
   "id": "0b197ef8",
   "metadata": {},
   "outputs": [],
   "source": [
    "rp.codebook(data[['Age', 'Height']])"
   ]
  },
  {
   "cell_type": "code",
   "execution_count": null,
   "id": "c8635bda",
   "metadata": {},
   "outputs": [],
   "source": [
    "data.columns"
   ]
  },
  {
   "cell_type": "code",
   "execution_count": null,
   "id": "a7580977",
   "metadata": {},
   "outputs": [],
   "source": [
    "# Sex (1 = Male, 2 =Female)\n",
    "data['Gender'].value_counts() "
   ]
  },
  {
   "cell_type": "code",
   "execution_count": null,
   "id": "82506440",
   "metadata": {},
   "outputs": [],
   "source": [
    "data['Gender'].value_counts(normalize=True) "
   ]
  },
  {
   "cell_type": "code",
   "execution_count": null,
   "id": "83814a88",
   "metadata": {},
   "outputs": [],
   "source": [
    "# Regular smoker? (1 = Yes, 2 = No)\n",
    "data['Smokes'].value_counts() "
   ]
  },
  {
   "cell_type": "code",
   "execution_count": null,
   "id": "e5dc37da",
   "metadata": {},
   "outputs": [],
   "source": [
    "data['Smokes'].value_counts(normalize=True) "
   ]
  },
  {
   "cell_type": "code",
   "execution_count": null,
   "id": "fd21f020",
   "metadata": {},
   "outputs": [],
   "source": [
    "# Regular drinker? (1 = Yes, 2 = No)\n",
    "data['Alcohol'].value_counts() "
   ]
  },
  {
   "cell_type": "code",
   "execution_count": null,
   "id": "119e08b0",
   "metadata": {},
   "outputs": [],
   "source": [
    "data['Alcohol'].value_counts(normalize=True) "
   ]
  },
  {
   "cell_type": "code",
   "execution_count": null,
   "id": "b3837315",
   "metadata": {},
   "outputs": [],
   "source": [
    "# Frequency of exercise (1 = High, 2 = Moderate, 3 = Low)\n",
    "data['Exercise'].value_counts() "
   ]
  },
  {
   "cell_type": "code",
   "execution_count": null,
   "id": "d814768d",
   "metadata": {},
   "outputs": [],
   "source": [
    "# Frequency of exercise (1 = High, 2 = Moderate, 3 = Low)\n",
    "data['Exercise'].value_counts(normalize=True) "
   ]
  },
  {
   "cell_type": "code",
   "execution_count": null,
   "id": "bb44898c",
   "metadata": {},
   "outputs": [],
   "source": [
    "data['Ran'].value_counts() "
   ]
  },
  {
   "cell_type": "code",
   "execution_count": null,
   "id": "44b14794",
   "metadata": {},
   "outputs": [],
   "source": [
    "data['Ran'].value_counts(normalize=True) "
   ]
  },
  {
   "cell_type": "code",
   "execution_count": null,
   "id": "a06522fe",
   "metadata": {},
   "outputs": [],
   "source": [
    "data['BMICat'].value_counts() "
   ]
  },
  {
   "cell_type": "code",
   "execution_count": null,
   "id": "6cb7f166",
   "metadata": {},
   "outputs": [],
   "source": [
    "data['BMICat'].value_counts(normalize=True) "
   ]
  },
  {
   "cell_type": "code",
   "execution_count": null,
   "id": "ffed75e2",
   "metadata": {},
   "outputs": [],
   "source": [
    "plt.figure(figsize=(12,8))\n",
    "sns.set(font_scale=1.5, palette= \"viridis\")\n",
    "sns.countplot(data = data, x = \"Gender\")\n",
    "plt.show()"
   ]
  },
  {
   "cell_type": "code",
   "execution_count": null,
   "id": "b4857c19",
   "metadata": {},
   "outputs": [],
   "source": [
    "plt.figure(figsize=(12,8))\n",
    "sns.set(font_scale=1.5, palette= \"viridis\")\n",
    "sns.countplot(data = data, x = \"Smokes\")\n",
    "plt.show()"
   ]
  },
  {
   "cell_type": "code",
   "execution_count": null,
   "id": "adb2e5b2",
   "metadata": {},
   "outputs": [],
   "source": [
    "plt.figure(figsize=(12,8))\n",
    "sns.set(font_scale=1.5, palette= \"viridis\")\n",
    "sns.countplot(data = data, x = \"Alcohol\")\n",
    "plt.show()"
   ]
  },
  {
   "cell_type": "code",
   "execution_count": null,
   "id": "3bb5a4ce",
   "metadata": {},
   "outputs": [],
   "source": [
    "plt.figure(figsize=(12,8))\n",
    "sns.set(font_scale=1.5, palette= \"viridis\")\n",
    "sns.countplot(data = data, x = \"Exercise\")\n",
    "plt.show()"
   ]
  },
  {
   "cell_type": "code",
   "execution_count": null,
   "id": "4d40acdf",
   "metadata": {},
   "outputs": [],
   "source": [
    "plt.figure(figsize=(12,8))\n",
    "sns.set(font_scale=1.5, palette= \"viridis\")\n",
    "sns.countplot(data = data, x = \"BMICat\")\n",
    "plt.show()"
   ]
  },
  {
   "cell_type": "markdown",
   "id": "1d8c33bd",
   "metadata": {},
   "source": [
    "## Qualitative Bivariate Analysis "
   ]
  },
  {
   "cell_type": "markdown",
   "id": "137e1c12",
   "metadata": {},
   "source": [
    "### Frequency Distribution: Two-way Table "
   ]
  },
  {
   "cell_type": "code",
   "execution_count": null,
   "id": "2d9f8f74",
   "metadata": {},
   "outputs": [],
   "source": [
    "pd.crosstab(data['Gender'], data['Smokes'])"
   ]
  },
  {
   "cell_type": "code",
   "execution_count": null,
   "id": "a747e028",
   "metadata": {},
   "outputs": [],
   "source": [
    "pd.crosstab(data['Gender'], data['Smokes'], normalize=True) * 100 "
   ]
  },
  {
   "cell_type": "code",
   "execution_count": null,
   "id": "2799c0fd",
   "metadata": {},
   "outputs": [],
   "source": [
    "pd.crosstab(data['Gender'], data['Alcohol'])"
   ]
  },
  {
   "cell_type": "code",
   "execution_count": null,
   "id": "e8626ec7",
   "metadata": {},
   "outputs": [],
   "source": [
    "pd.crosstab(data['Gender'], data['Alcohol'], normalize=True)"
   ]
  },
  {
   "cell_type": "code",
   "execution_count": null,
   "id": "5b57e90a",
   "metadata": {},
   "outputs": [],
   "source": [
    "pd.crosstab(data['Gender'], data['Exercise'])"
   ]
  },
  {
   "cell_type": "code",
   "execution_count": null,
   "id": "70bd08cf",
   "metadata": {},
   "outputs": [],
   "source": [
    "pd.crosstab(data['Gender'], data['Exercise'], normalize=True)"
   ]
  },
  {
   "cell_type": "code",
   "execution_count": null,
   "id": "f03854c9",
   "metadata": {},
   "outputs": [],
   "source": [
    "pd.crosstab(data['Gender'], data['BMICat'])"
   ]
  },
  {
   "cell_type": "markdown",
   "id": "362e17e8",
   "metadata": {},
   "source": [
    "### Frequency Distribution: Marginal Table"
   ]
  },
  {
   "cell_type": "code",
   "execution_count": null,
   "id": "484a3adb",
   "metadata": {},
   "outputs": [],
   "source": [
    "pd.crosstab(data['Gender'], data['Smokes'], normalize=True, margins=True)"
   ]
  },
  {
   "cell_type": "code",
   "execution_count": null,
   "id": "d604236a",
   "metadata": {},
   "outputs": [],
   "source": [
    "pd.crosstab(data['Gender'], data['Smokes'], normalize=True, margins=True)"
   ]
  },
  {
   "cell_type": "code",
   "execution_count": null,
   "id": "1a55fc6d",
   "metadata": {},
   "outputs": [],
   "source": [
    "plt.figure(figsize=(12,8))\n",
    "sns.set(font_scale=1.5, palette= \"viridis\")\n",
    "sns.countplot(data = data, x = \"Gender\", hue=\"Smokes\")\n",
    "plt.show()"
   ]
  },
  {
   "cell_type": "code",
   "execution_count": null,
   "id": "1909741a",
   "metadata": {},
   "outputs": [],
   "source": [
    "plt.figure(figsize=(12,8))\n",
    "sns.set(font_scale=1.5, palette= \"viridis\")\n",
    "sns.countplot(data = data, x = \"Gender\", hue=\"Alcohol\")\n",
    "plt.show()"
   ]
  },
  {
   "cell_type": "code",
   "execution_count": null,
   "id": "ee414da4",
   "metadata": {},
   "outputs": [],
   "source": [
    "plt.figure(figsize=(12,8))\n",
    "sns.set(font_scale=1.5, palette= \"viridis\")\n",
    "sns.countplot(data = data, x = \"Gender\", hue=\"Exercise\")\n",
    "plt.show()"
   ]
  },
  {
   "cell_type": "code",
   "execution_count": null,
   "id": "5ff17bbb",
   "metadata": {},
   "outputs": [],
   "source": [
    "plt.figure(figsize=(12,8))\n",
    "sns.set(font_scale=1.5, palette= \"viridis\")\n",
    "sns.countplot(data = data, x = \"Gender\", hue=\"BMICat\")\n",
    "plt.show()"
   ]
  },
  {
   "cell_type": "markdown",
   "id": "e8e60776",
   "metadata": {},
   "source": [
    "## Quantitative Univariate Analysis"
   ]
  },
  {
   "cell_type": "code",
   "execution_count": null,
   "id": "9fd22873",
   "metadata": {},
   "outputs": [],
   "source": [
    "data['Height'].describe() "
   ]
  },
  {
   "cell_type": "code",
   "execution_count": null,
   "id": "338c702d",
   "metadata": {},
   "outputs": [],
   "source": [
    "data['Weight'].describe() "
   ]
  },
  {
   "cell_type": "code",
   "execution_count": null,
   "id": "887a172b",
   "metadata": {},
   "outputs": [],
   "source": [
    "data['Age'].describe() "
   ]
  },
  {
   "cell_type": "code",
   "execution_count": null,
   "id": "d54c7086",
   "metadata": {},
   "outputs": [],
   "source": [
    "data['Pulse1'].describe() "
   ]
  },
  {
   "cell_type": "code",
   "execution_count": null,
   "id": "5cdbbaf1",
   "metadata": {},
   "outputs": [],
   "source": [
    "data['Pulse2'].describe() "
   ]
  },
  {
   "cell_type": "code",
   "execution_count": null,
   "id": "47af48f3",
   "metadata": {},
   "outputs": [],
   "source": [
    "data['BMI'].describe() "
   ]
  },
  {
   "cell_type": "code",
   "execution_count": null,
   "id": "78218bdc",
   "metadata": {},
   "outputs": [],
   "source": [
    "data['BMI'].skew() "
   ]
  },
  {
   "cell_type": "code",
   "execution_count": null,
   "id": "19e23514",
   "metadata": {},
   "outputs": [],
   "source": [
    "data['BMI'].kurtosis() "
   ]
  },
  {
   "cell_type": "code",
   "execution_count": null,
   "id": "35b3613c",
   "metadata": {},
   "outputs": [],
   "source": [
    "plt.figure(figsize=(12,8))\n",
    "sns.set(font_scale=1.5, palette= \"viridis\")\n",
    "sns.histplot(data=data, x=\"Age\")\n",
    "plt.show()"
   ]
  },
  {
   "cell_type": "code",
   "execution_count": null,
   "id": "ed74dabc",
   "metadata": {},
   "outputs": [],
   "source": [
    "plt.figure(figsize=(12,8))\n",
    "sns.set(font_scale=1.5, palette= \"viridis\")\n",
    "sns.histplot(data=data, x=\"Height\")\n",
    "plt.show()"
   ]
  },
  {
   "cell_type": "code",
   "execution_count": null,
   "id": "8bbcbc07",
   "metadata": {},
   "outputs": [],
   "source": [
    "plt.figure(figsize=(12,8))\n",
    "sns.set(font_scale=1.5, palette= \"viridis\")\n",
    "sns.histplot(data=data, x=\"Pulse1\")\n",
    "plt.show()"
   ]
  },
  {
   "cell_type": "code",
   "execution_count": null,
   "id": "3dbf824b",
   "metadata": {},
   "outputs": [],
   "source": [
    "plt.figure(figsize=(12,8))\n",
    "sns.set(font_scale=1.5, palette= \"viridis\")\n",
    "sns.histplot(data=data, x=\"Pulse2\")\n",
    "plt.show()"
   ]
  },
  {
   "cell_type": "code",
   "execution_count": null,
   "id": "d5df8cfd",
   "metadata": {},
   "outputs": [],
   "source": [
    "plt.figure(figsize=(12,8))\n",
    "sns.set(font_scale=1.5, palette= \"viridis\")\n",
    "sns.histplot(data=data, x=\"BMI\")\n",
    "plt.show()"
   ]
  },
  {
   "cell_type": "code",
   "execution_count": null,
   "id": "2a75a550",
   "metadata": {},
   "outputs": [],
   "source": [
    "plt.figure(figsize=(12,8))\n",
    "sns.set(font_scale=1.5, palette= \"viridis\")\n",
    "sns.boxplot(data=data, x=\"BMI\")\n",
    "plt.show()"
   ]
  },
  {
   "cell_type": "code",
   "execution_count": null,
   "id": "df392d91",
   "metadata": {},
   "outputs": [],
   "source": [
    "plt.figure(figsize=(12,8))\n",
    "sns.set(font_scale=1.5, palette= \"viridis\")\n",
    "sns.boxplot(data['BMI'])\n",
    "plt.show()"
   ]
  },
  {
   "cell_type": "markdown",
   "id": "d5cdd86e",
   "metadata": {},
   "source": [
    "## Quantitative Bivariate Analysis"
   ]
  },
  {
   "cell_type": "code",
   "execution_count": null,
   "id": "eb31cc4a",
   "metadata": {},
   "outputs": [],
   "source": [
    "data.Age.corr(data.Height)"
   ]
  },
  {
   "cell_type": "code",
   "execution_count": null,
   "id": "27b46979",
   "metadata": {},
   "outputs": [],
   "source": [
    "data.Age.corr(data.BMI)"
   ]
  },
  {
   "cell_type": "code",
   "execution_count": null,
   "id": "7f55991d",
   "metadata": {},
   "outputs": [],
   "source": [
    "data.Age.corr(data.Weight)"
   ]
  },
  {
   "cell_type": "code",
   "execution_count": null,
   "id": "e1ae3c92",
   "metadata": {},
   "outputs": [],
   "source": [
    "data.Age.cov(data.BMI)"
   ]
  },
  {
   "cell_type": "code",
   "execution_count": null,
   "id": "83336c36",
   "metadata": {},
   "outputs": [],
   "source": [
    "plt.figure(figsize=(12,8))\n",
    "sns.set(font_scale=1.5, palette= \"viridis\")\n",
    "sns.scatterplot(data=data, x=\"Age\", y=\"BMI\")\n",
    "plt.show()"
   ]
  },
  {
   "cell_type": "code",
   "execution_count": null,
   "id": "66a6bbae",
   "metadata": {},
   "outputs": [],
   "source": [
    "plt.figure(figsize=(12,8))\n",
    "sns.set(font_scale=1.5, palette= \"viridis\")\n",
    "sns.scatterplot(data=data, x=\"Age\", y=\"BMI\", hue=\"Gender\")\n",
    "plt.show()"
   ]
  },
  {
   "cell_type": "code",
   "execution_count": null,
   "id": "0c7afb97",
   "metadata": {},
   "outputs": [],
   "source": [
    "plt.figure(figsize=(12,8))\n",
    "sns.set(font_scale=1.5, palette= \"viridis\")\n",
    "sns.scatterplot(data=data, x=\"Age\", y=\"Weight\")\n",
    "plt.show()"
   ]
  },
  {
   "cell_type": "code",
   "execution_count": null,
   "id": "195ca74e",
   "metadata": {},
   "outputs": [],
   "source": [
    "plt.figure(figsize=(12,8))\n",
    "sns.set(font_scale=1.5, palette= \"viridis\")\n",
    "sns.scatterplot(data=data, x=\"Age\", y=\"Pulse1\")\n",
    "plt.show()"
   ]
  },
  {
   "cell_type": "markdown",
   "id": "ba0a03b7",
   "metadata": {},
   "source": [
    "## Multivariate Analysis "
   ]
  },
  {
   "cell_type": "code",
   "execution_count": null,
   "id": "ee08c02e",
   "metadata": {},
   "outputs": [],
   "source": [
    "data.corr() "
   ]
  },
  {
   "cell_type": "code",
   "execution_count": null,
   "id": "bd7588c0",
   "metadata": {},
   "outputs": [],
   "source": [
    "data.cov() "
   ]
  },
  {
   "cell_type": "code",
   "execution_count": null,
   "id": "721258d6",
   "metadata": {},
   "outputs": [],
   "source": [
    "plt.figure(figsize=(12,8))\n",
    "sns.set(font_scale=1.5, palette= \"viridis\")\n",
    "sns.heatmap(data.corr())\n",
    "plt.show()"
   ]
  },
  {
   "cell_type": "code",
   "execution_count": null,
   "id": "035545cc",
   "metadata": {},
   "outputs": [],
   "source": [
    "plt.figure(figsize=(20,8))\n",
    "sns.set(font_scale=1.5, palette= \"viridis\")\n",
    "sns.heatmap(data.corr(), annot=True)\n",
    "plt.show()"
   ]
  },
  {
   "cell_type": "markdown",
   "id": "ac3f13a5",
   "metadata": {},
   "source": [
    "## Categorical - Quantitative(C-Q) Analysis "
   ]
  },
  {
   "cell_type": "code",
   "execution_count": null,
   "id": "35dd93d7",
   "metadata": {},
   "outputs": [],
   "source": [
    "data.groupby('Gender')['BMI'].describe()"
   ]
  },
  {
   "cell_type": "code",
   "execution_count": null,
   "id": "13ee854d",
   "metadata": {},
   "outputs": [],
   "source": [
    "plt.figure(figsize=(12,8))\n",
    "sns.set(font_scale=1.5, palette= \"viridis\")\n",
    "sns.boxplot(data=data, x=\"Gender\", y=\"BMI\")\n",
    "plt.show()"
   ]
  },
  {
   "cell_type": "code",
   "execution_count": null,
   "id": "cff54d83",
   "metadata": {},
   "outputs": [],
   "source": [
    "data.groupby('Gender')['BMI'].describe() "
   ]
  },
  {
   "cell_type": "markdown",
   "id": "050f067a",
   "metadata": {},
   "source": [
    "## Categorical- Categorical(CC) Analysis"
   ]
  },
  {
   "cell_type": "code",
   "execution_count": null,
   "id": "fa579e5a",
   "metadata": {},
   "outputs": [],
   "source": [
    "data.groupby('Gender')['Smokes'].value_counts().unstack() "
   ]
  },
  {
   "cell_type": "code",
   "execution_count": null,
   "id": "c984514b",
   "metadata": {},
   "outputs": [],
   "source": [
    "plt.figure(figsize=(12,8))\n",
    "sns.set(font_scale=1.5, palette= \"viridis\")\n",
    "sns.countplot(data=data, x=\"Gender\", hue='Smokes')\n",
    "plt.show()"
   ]
  },
  {
   "cell_type": "markdown",
   "id": "e5c26ad8",
   "metadata": {},
   "source": [
    "## Quantitative - Quantitative Analysis "
   ]
  },
  {
   "cell_type": "code",
   "execution_count": null,
   "id": "714d5cda",
   "metadata": {},
   "outputs": [],
   "source": [
    "data.Age.corr(data.BMI) "
   ]
  },
  {
   "cell_type": "code",
   "execution_count": null,
   "id": "3572d412",
   "metadata": {},
   "outputs": [],
   "source": [
    "plt.figure(figsize=(12,8))\n",
    "sns.set(font_scale=1.5, palette= \"viridis\")\n",
    "sns.scatterplot(data=data, x=\"Age\", y=\"BMI\")\n",
    "plt.show()"
   ]
  },
  {
   "cell_type": "code",
   "execution_count": null,
   "id": "71b2dbc7",
   "metadata": {},
   "outputs": [],
   "source": [
    "plt.figure(figsize=(12,8))\n",
    "sns.set(font_scale=1.5, palette= \"viridis\")\n",
    "sns.scatterplot(data=data, x=\"Age\", y=\"BMI\", hue='Gender')\n",
    "plt.show()"
   ]
  }
 ],
 "metadata": {
  "kernelspec": {
   "display_name": "Python 3 (ipykernel)",
   "language": "python",
   "name": "python3"
  },
  "language_info": {
   "codemirror_mode": {
    "name": "ipython",
    "version": 3
   },
   "file_extension": ".py",
   "mimetype": "text/x-python",
   "name": "python",
   "nbconvert_exporter": "python",
   "pygments_lexer": "ipython3",
   "version": "3.9.12"
  },
  "latex_envs": {
   "LaTeX_envs_menu_present": true,
   "autoclose": false,
   "autocomplete": true,
   "bibliofile": "biblio.bib",
   "cite_by": "apalike",
   "current_citInitial": 1,
   "eqLabelWithNumbers": true,
   "eqNumInitial": 1,
   "hotkeys": {
    "equation": "Ctrl-E",
    "itemize": "Ctrl-I"
   },
   "labels_anchors": false,
   "latex_user_defs": false,
   "report_style_numbering": false,
   "user_envs_cfg": false
  },
  "widgets": {
   "application/vnd.jupyter.widget-state+json": {
    "state": {},
    "version_major": 2,
    "version_minor": 0
   }
  }
 },
 "nbformat": 4,
 "nbformat_minor": 5
}
